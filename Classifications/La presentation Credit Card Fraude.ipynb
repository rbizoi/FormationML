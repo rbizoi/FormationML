{
 "cells": [
  {
   "cell_type": "markdown",
   "metadata": {
    "toc": true
   },
   "source": [
    "<h1>Table of Contents<span class=\"tocSkip\"></span></h1>\n",
    "<div class=\"toc\"><ul class=\"toc-item\"></ul></div>"
   ]
  },
  {
   "cell_type": "code",
   "execution_count": 1,
   "metadata": {
    "ExecuteTime": {
     "end_time": "2020-12-29T19:05:58.640202Z",
     "start_time": "2020-12-29T19:05:57.119467Z"
    }
   },
   "outputs": [
    {
     "name": "stdout",
     "output_type": "stream",
     "text": [
      "Populating the interactive namespace from numpy and matplotlib\n"
     ]
    }
   ],
   "source": [
    "import time\n",
    "import seaborn as sns \n",
    "import warnings\n",
    "%pylab inline\n",
    "warnings.filterwarnings(action=\"ignore\")\n",
    "\n",
    "plt.style.use('seaborn-darkgrid')\n",
    "sns.set(font_scale=2)\n",
    "\n",
    "np.random.seed(123456)\n",
    "import os\n",
    "os.chdir(r\"C:\\Solutions\")\n",
    "import pandas as pd\n",
    "from sklearn.preprocessing import StandardScaler\n",
    "\n",
    "palette = [\n",
    "              \"#030aa7\",\"#e50000\",\"#f5bf03\",\"#005f6a\",\"#6b7c85\",\"#f5054f\",\"#751973\",\"#a0450e\",\n",
    "              \"#0339f8\",\"#f4320c\",\"#fec615\",\"#017a79\",\"#85a3b2\",\"#fe2f4a\",\"#a00498\",\"#b04e0f\",\n",
    "              \"#0165fc\",\"#ff724c\",\"#fddc5c\",\"#11875d\",\"#89a0b0\",\"#fe828c\",\"#cb00f5\",\"#b75203\",\n",
    "              \"#0485d1\",\"#ff7855\",\"#fbeeac\",\"#0cb577\",\"#95a3a6\",\"#ffb7ce\",\"#c071fe\",\"#ca6b02\",\n",
    "              \"#92c5de\",\"#f4a582\",\"#fef69e\",\"#18d17b\",\"#c5c9c7\",\"#ffcfdc\",\"#caa0ff\",\"#cb7723\",\n",
    "              \"#d1e5f0\",\"#fddbc7\",\"#ffffcb\",\"#12e193\",\"#d8dcd6\",\"#ffdaf0\",\"#dfc5fe\",\"#d8863b\",\n",
    "              \"#030764\",\"#be0119\",\"#dbb40c\",\"#005249\",\"#3c4142\",\"#cb0162\",\"#5d1451\",\"#653700\",\n",
    "              \"#040348\",\"#67001f\",\"#b27a01\",\"#002d04\",\"#000000\",\"#a0025c\",\"#490648\",\"#3c0008\"\n",
    "]"
   ]
  },
  {
   "cell_type": "code",
   "execution_count": 2,
   "metadata": {
    "ExecuteTime": {
     "end_time": "2020-12-29T19:05:58.660312Z",
     "start_time": "2020-12-29T19:05:58.640202Z"
    }
   },
   "outputs": [],
   "source": [
    "def createAggregates(donnees,groupe,listeVariablesQ):\n",
    "    nomGroupe = ''\n",
    "    for col in groupe:\n",
    "        nomGroupe += '_'+col\n",
    "    nomGroupe = nomGroupe[1:]    \n",
    "    noms =  list(np.array([ [nomGroupe+'_'+str(var)+'_'+'min',\n",
    "              nomGroupe+'_'+str(var)+'_'+'max',\n",
    "              nomGroupe+'_'+str(var)+'_'+'moy',\n",
    "              nomGroupe+'_'+str(var)+'_'+'med',\n",
    "              nomGroupe+'_'+str(var)+'_'+'ect',\n",
    "              nomGroupe+'_'+str(var)+'_'+'skw',\n",
    "              nomGroupe+'_'+str(var)+'_'+'krt',\n",
    "              nomGroupe+'_'+str(var)+'_'+'amp',\n",
    "              nomGroupe+'_'+str(var)+'_'+'01p',\n",
    "              nomGroupe+'_'+str(var)+'_'+'05p',\n",
    "              nomGroupe+'_'+str(var)+'_'+'25p',\n",
    "              nomGroupe+'_'+str(var)+'_'+'75p',\n",
    "              nomGroupe+'_'+str(var)+'_'+'95p',\n",
    "              nomGroupe+'_'+str(var)+'_'+'99p',\n",
    "              nomGroupe+'_'+str(var)+'_'+'iqr']\n",
    "            for var in listeVariablesQ]).flatten())\n",
    "    \n",
    "    \n",
    "    calc_df = donnees.groupby(\n",
    "                                 groupe\n",
    "                             ).agg(\n",
    "                              { \n",
    "                                str(var):{\n",
    "                                    pd.DataFrame.min               ,\n",
    "                                    pd.DataFrame.max               ,\n",
    "                                    pd.DataFrame.mean              ,\n",
    "                                    pd.DataFrame.median            ,\n",
    "                                    pd.DataFrame.std               ,\n",
    "                                    pd.DataFrame.skew              ,\n",
    "                                    pd.DataFrame.kurt              ,\n",
    "                                    lambda x: max(x) - min(x)      ,\n",
    "                                    lambda x: np.percentile(x, 1)  ,\n",
    "                                    lambda x: np.percentile(x, 5)  ,\n",
    "                                    lambda x: np.percentile(x, 25) ,\n",
    "                                    lambda x: np.percentile(x, 75) ,\n",
    "                                    lambda x: np.percentile(x, 95) ,\n",
    "                                    lambda x: np.percentile(x, 99) ,\n",
    "                                    lambda x: np.percentile(x, 75) - \n",
    "                                                  np.percentile(x, 25)\n",
    "                                }\n",
    "                                for var in listeVariablesQ\n",
    "                               })\n",
    "    calc_df.columns = noms\n",
    "    calc_df.dropna(axis=1, inplace=True)\n",
    "    \n",
    "    valDesc = calc_df.describe().loc['std',:]\n",
    "    calc_df.drop(columns=valDesc[valDesc == 0].index,inplace=True)\n",
    "\n",
    "    #calc_df.columns = [str(x[1]) for x in calc_df.columns]\n",
    "    calc_df.reset_index(inplace=True)\n",
    "\n",
    "    return donnees.merge(calc_df,on=groupe,copy=False)"
   ]
  },
  {
   "cell_type": "code",
   "execution_count": 3,
   "metadata": {
    "ExecuteTime": {
     "end_time": "2020-12-29T19:05:58.675937Z",
     "start_time": "2020-12-29T19:05:58.660312Z"
    }
   },
   "outputs": [],
   "source": [
    "def createColumnsQualitatives(donnees,variable):\n",
    "    noms_modalites = list(donnees[variable].unique())\n",
    "    noms_modalites.sort()\n",
    "    for i in noms_modalites:\n",
    "        nom = variable+'_'+str(i)\n",
    "        donnees[nom] = donnees[variable].apply(lambda x : 1 if x==i else 0)\n",
    "    donnees.drop(labels=variable, axis=1, inplace=True)"
   ]
  },
  {
   "cell_type": "code",
   "execution_count": 4,
   "metadata": {
    "ExecuteTime": {
     "end_time": "2020-12-29T19:06:00.364765Z",
     "start_time": "2020-12-29T19:05:58.675937Z"
    }
   },
   "outputs": [],
   "source": [
    "donnees = pd.read_csv('donnees/creditCard.csv').iloc[:,1:]\n",
    "donnees = donnees[~donnees.Time.isna()]"
   ]
  },
  {
   "cell_type": "code",
   "execution_count": 5,
   "metadata": {
    "ExecuteTime": {
     "end_time": "2020-12-29T19:06:00.543123Z",
     "start_time": "2020-12-29T19:06:00.364765Z"
    }
   },
   "outputs": [],
   "source": [
    "donnees.Time = donnees.Time.astype('int32')\n",
    "donnees['DateOrigine'] = pd.to_datetime(donnees.Time, unit='s',origin=pd.Timestamp('2013-09-01T00:00:04.000000000'))\n",
    "#donnees['Jour']        = donnees.DateOrigine.dt.day\n",
    "donnees['Heure24']     = donnees.DateOrigine.dt.hour\n",
    "#donnees['Minute']      = donnees.DateOrigine.dt.minute.apply(lambda x: round(x,-1))\n",
    "#donnees['HeureMinute'] = donnees['Heure24'] + donnees.DateOrigine.dt.minute.apply(lambda x: round(x,-1))/100\n",
    "#donnees['Minute30']    = round((donnees['Time'] / 60*30 ) % 47).astype('int8')\n",
    "donnees['AmountLog']   = np.log(donnees.Amount+1)\n",
    "#donnees['AmountInt']   = (donnees.Amount - donnees.Amount%1).astype('int32')\n",
    "donnees['AmountDec']   = donnees.Amount%1\n",
    "donnees['Temps']      = (donnees.Time - donnees.Time.shift(1)).fillna(0).astype('int8')\n",
    "donnees.drop(columns=['Time','DateOrigine','Amount'],inplace=True)\n",
    "#apply(lambda x: x + 1 if x > 5 else x + 24  )"
   ]
  },
  {
   "cell_type": "code",
   "execution_count": 6,
   "metadata": {
    "ExecuteTime": {
     "end_time": "2020-12-29T19:06:01.550622Z",
     "start_time": "2020-12-29T19:06:00.543123Z"
    }
   },
   "outputs": [],
   "source": [
    "donnees = createAggregates(donnees,['Heure24'],['AmountLog','Temps','AmountDec'])\n",
    "#donnees = createAggregates(donnees,['HeureMinute'],['AmountLog','Temps','AmountDec'])\n",
    "#donnees = createAggregates(donnees,['Minute30'],['AmountLog','Temps','AmountDec'])"
   ]
  },
  {
   "cell_type": "code",
   "execution_count": 7,
   "metadata": {
    "ExecuteTime": {
     "end_time": "2020-12-29T19:06:01.581870Z",
     "start_time": "2020-12-29T19:06:01.550622Z"
    }
   },
   "outputs": [
    {
     "data": {
      "text/html": [
       "<div>\n",
       "<style scoped>\n",
       "    .dataframe tbody tr th:only-of-type {\n",
       "        vertical-align: middle;\n",
       "    }\n",
       "\n",
       "    .dataframe tbody tr th {\n",
       "        vertical-align: top;\n",
       "    }\n",
       "\n",
       "    .dataframe thead th {\n",
       "        text-align: right;\n",
       "    }\n",
       "</style>\n",
       "<table border=\"1\" class=\"dataframe\">\n",
       "  <thead>\n",
       "    <tr style=\"text-align: right;\">\n",
       "      <th></th>\n",
       "      <th>V1</th>\n",
       "      <th>V2</th>\n",
       "      <th>V3</th>\n",
       "      <th>V4</th>\n",
       "      <th>V5</th>\n",
       "      <th>V6</th>\n",
       "      <th>V7</th>\n",
       "      <th>V8</th>\n",
       "      <th>V9</th>\n",
       "      <th>V10</th>\n",
       "      <th>...</th>\n",
       "      <th>Heure24_AmountDec_moy</th>\n",
       "      <th>Heure24_AmountDec_med</th>\n",
       "      <th>Heure24_AmountDec_ect</th>\n",
       "      <th>Heure24_AmountDec_krt</th>\n",
       "      <th>Heure24_AmountDec_01p</th>\n",
       "      <th>Heure24_AmountDec_05p</th>\n",
       "      <th>Heure24_AmountDec_25p</th>\n",
       "      <th>Heure24_AmountDec_95p</th>\n",
       "      <th>Heure24_AmountDec_99p</th>\n",
       "      <th>Heure24_AmountDec_iqr</th>\n",
       "    </tr>\n",
       "  </thead>\n",
       "  <tbody>\n",
       "    <tr>\n",
       "      <th>0</th>\n",
       "      <td>-1.359807</td>\n",
       "      <td>-0.072781</td>\n",
       "      <td>2.536347</td>\n",
       "      <td>1.378155</td>\n",
       "      <td>-0.338321</td>\n",
       "      <td>0.462388</td>\n",
       "      <td>0.239599</td>\n",
       "      <td>0.098698</td>\n",
       "      <td>0.363787</td>\n",
       "      <td>0.090794</td>\n",
       "      <td>...</td>\n",
       "      <td>-1.59676</td>\n",
       "      <td>0.0</td>\n",
       "      <td>0.99</td>\n",
       "      <td>0.99</td>\n",
       "      <td>0.85</td>\n",
       "      <td>0.85</td>\n",
       "      <td>0.455604</td>\n",
       "      <td>0.47</td>\n",
       "      <td>0.072815</td>\n",
       "      <td>0.386162</td>\n",
       "    </tr>\n",
       "    <tr>\n",
       "      <th>1</th>\n",
       "      <td>1.191857</td>\n",
       "      <td>0.266151</td>\n",
       "      <td>0.166480</td>\n",
       "      <td>0.448154</td>\n",
       "      <td>0.060018</td>\n",
       "      <td>-0.082361</td>\n",
       "      <td>-0.078803</td>\n",
       "      <td>0.085102</td>\n",
       "      <td>-0.255425</td>\n",
       "      <td>-0.166974</td>\n",
       "      <td>...</td>\n",
       "      <td>-1.59676</td>\n",
       "      <td>0.0</td>\n",
       "      <td>0.99</td>\n",
       "      <td>0.99</td>\n",
       "      <td>0.85</td>\n",
       "      <td>0.85</td>\n",
       "      <td>0.455604</td>\n",
       "      <td>0.47</td>\n",
       "      <td>0.072815</td>\n",
       "      <td>0.386162</td>\n",
       "    </tr>\n",
       "    <tr>\n",
       "      <th>2</th>\n",
       "      <td>-1.358354</td>\n",
       "      <td>-1.340163</td>\n",
       "      <td>1.773209</td>\n",
       "      <td>0.379780</td>\n",
       "      <td>-0.503198</td>\n",
       "      <td>1.800499</td>\n",
       "      <td>0.791461</td>\n",
       "      <td>0.247676</td>\n",
       "      <td>-1.514654</td>\n",
       "      <td>0.207643</td>\n",
       "      <td>...</td>\n",
       "      <td>-1.59676</td>\n",
       "      <td>0.0</td>\n",
       "      <td>0.99</td>\n",
       "      <td>0.99</td>\n",
       "      <td>0.85</td>\n",
       "      <td>0.85</td>\n",
       "      <td>0.455604</td>\n",
       "      <td>0.47</td>\n",
       "      <td>0.072815</td>\n",
       "      <td>0.386162</td>\n",
       "    </tr>\n",
       "    <tr>\n",
       "      <th>3</th>\n",
       "      <td>-0.966272</td>\n",
       "      <td>-0.185226</td>\n",
       "      <td>1.792993</td>\n",
       "      <td>-0.863291</td>\n",
       "      <td>-0.010309</td>\n",
       "      <td>1.247203</td>\n",
       "      <td>0.237609</td>\n",
       "      <td>0.377436</td>\n",
       "      <td>-1.387024</td>\n",
       "      <td>-0.054952</td>\n",
       "      <td>...</td>\n",
       "      <td>-1.59676</td>\n",
       "      <td>0.0</td>\n",
       "      <td>0.99</td>\n",
       "      <td>0.99</td>\n",
       "      <td>0.85</td>\n",
       "      <td>0.85</td>\n",
       "      <td>0.455604</td>\n",
       "      <td>0.47</td>\n",
       "      <td>0.072815</td>\n",
       "      <td>0.386162</td>\n",
       "    </tr>\n",
       "    <tr>\n",
       "      <th>4</th>\n",
       "      <td>-1.158233</td>\n",
       "      <td>0.877737</td>\n",
       "      <td>1.548718</td>\n",
       "      <td>0.403034</td>\n",
       "      <td>-0.407193</td>\n",
       "      <td>0.095921</td>\n",
       "      <td>0.592941</td>\n",
       "      <td>-0.270533</td>\n",
       "      <td>0.817739</td>\n",
       "      <td>0.753074</td>\n",
       "      <td>...</td>\n",
       "      <td>-1.59676</td>\n",
       "      <td>0.0</td>\n",
       "      <td>0.99</td>\n",
       "      <td>0.99</td>\n",
       "      <td>0.85</td>\n",
       "      <td>0.85</td>\n",
       "      <td>0.455604</td>\n",
       "      <td>0.47</td>\n",
       "      <td>0.072815</td>\n",
       "      <td>0.386162</td>\n",
       "    </tr>\n",
       "  </tbody>\n",
       "</table>\n",
       "<p>5 rows × 69 columns</p>\n",
       "</div>"
      ],
      "text/plain": [
       "         V1        V2        V3        V4        V5        V6        V7  \\\n",
       "0 -1.359807 -0.072781  2.536347  1.378155 -0.338321  0.462388  0.239599   \n",
       "1  1.191857  0.266151  0.166480  0.448154  0.060018 -0.082361 -0.078803   \n",
       "2 -1.358354 -1.340163  1.773209  0.379780 -0.503198  1.800499  0.791461   \n",
       "3 -0.966272 -0.185226  1.792993 -0.863291 -0.010309  1.247203  0.237609   \n",
       "4 -1.158233  0.877737  1.548718  0.403034 -0.407193  0.095921  0.592941   \n",
       "\n",
       "         V8        V9       V10  ...  Heure24_AmountDec_moy  \\\n",
       "0  0.098698  0.363787  0.090794  ...               -1.59676   \n",
       "1  0.085102 -0.255425 -0.166974  ...               -1.59676   \n",
       "2  0.247676 -1.514654  0.207643  ...               -1.59676   \n",
       "3  0.377436 -1.387024 -0.054952  ...               -1.59676   \n",
       "4 -0.270533  0.817739  0.753074  ...               -1.59676   \n",
       "\n",
       "   Heure24_AmountDec_med  Heure24_AmountDec_ect  Heure24_AmountDec_krt  \\\n",
       "0                    0.0                   0.99                   0.99   \n",
       "1                    0.0                   0.99                   0.99   \n",
       "2                    0.0                   0.99                   0.99   \n",
       "3                    0.0                   0.99                   0.99   \n",
       "4                    0.0                   0.99                   0.99   \n",
       "\n",
       "   Heure24_AmountDec_01p  Heure24_AmountDec_05p  Heure24_AmountDec_25p  \\\n",
       "0                   0.85                   0.85               0.455604   \n",
       "1                   0.85                   0.85               0.455604   \n",
       "2                   0.85                   0.85               0.455604   \n",
       "3                   0.85                   0.85               0.455604   \n",
       "4                   0.85                   0.85               0.455604   \n",
       "\n",
       "   Heure24_AmountDec_95p  Heure24_AmountDec_99p  Heure24_AmountDec_iqr  \n",
       "0                   0.47               0.072815               0.386162  \n",
       "1                   0.47               0.072815               0.386162  \n",
       "2                   0.47               0.072815               0.386162  \n",
       "3                   0.47               0.072815               0.386162  \n",
       "4                   0.47               0.072815               0.386162  \n",
       "\n",
       "[5 rows x 69 columns]"
      ]
     },
     "execution_count": 7,
     "metadata": {},
     "output_type": "execute_result"
    }
   ],
   "source": [
    "donnees.head()"
   ]
  },
  {
   "cell_type": "code",
   "execution_count": 8,
   "metadata": {
    "ExecuteTime": {
     "end_time": "2020-12-29T19:06:05.655886Z",
     "start_time": "2020-12-29T19:06:01.581870Z"
    }
   },
   "outputs": [],
   "source": [
    "createColumnsQualitatives(donnees,'Heure24')"
   ]
  },
  {
   "cell_type": "code",
   "execution_count": 9,
   "metadata": {
    "ExecuteTime": {
     "end_time": "2020-12-29T19:06:05.671544Z",
     "start_time": "2020-12-29T19:06:05.655886Z"
    }
   },
   "outputs": [
    {
     "data": {
      "text/plain": [
       "array(['V1', 'V2', 'V3', 'V4', 'V5', 'V6', 'V7', 'V8', 'V9', 'V10', 'V11',\n",
       "       'V12', 'V13', 'V14', 'V15', 'V16', 'V17', 'V18', 'V19', 'V20',\n",
       "       'V21', 'V22', 'V23', 'V24', 'V25', 'V26', 'V27', 'V28', 'Class',\n",
       "       'AmountLog', 'AmountDec', 'Temps', 'Heure24_AmountLog_min',\n",
       "       'Heure24_AmountLog_max', 'Heure24_AmountLog_moy',\n",
       "       'Heure24_AmountLog_med', 'Heure24_AmountLog_ect',\n",
       "       'Heure24_AmountLog_skw', 'Heure24_AmountLog_amp',\n",
       "       'Heure24_AmountLog_01p', 'Heure24_AmountLog_05p',\n",
       "       'Heure24_AmountLog_25p', 'Heure24_AmountLog_75p',\n",
       "       'Heure24_AmountLog_95p', 'Heure24_AmountLog_99p',\n",
       "       'Heure24_AmountLog_iqr', 'Heure24_Temps_min', 'Heure24_Temps_max',\n",
       "       'Heure24_Temps_moy', 'Heure24_Temps_med', 'Heure24_Temps_ect',\n",
       "       'Heure24_Temps_skw', 'Heure24_Temps_01p', 'Heure24_Temps_05p',\n",
       "       'Heure24_Temps_75p', 'Heure24_Temps_95p', 'Heure24_Temps_99p',\n",
       "       'Heure24_Temps_iqr', 'Heure24_AmountDec_moy',\n",
       "       'Heure24_AmountDec_med', 'Heure24_AmountDec_ect',\n",
       "       'Heure24_AmountDec_krt', 'Heure24_AmountDec_01p',\n",
       "       'Heure24_AmountDec_05p', 'Heure24_AmountDec_25p',\n",
       "       'Heure24_AmountDec_95p', 'Heure24_AmountDec_99p',\n",
       "       'Heure24_AmountDec_iqr', 'Heure24_0', 'Heure24_1', 'Heure24_2',\n",
       "       'Heure24_3', 'Heure24_4', 'Heure24_5', 'Heure24_6', 'Heure24_7',\n",
       "       'Heure24_8', 'Heure24_9', 'Heure24_10', 'Heure24_11', 'Heure24_12',\n",
       "       'Heure24_13', 'Heure24_14', 'Heure24_15', 'Heure24_16',\n",
       "       'Heure24_17', 'Heure24_18', 'Heure24_19', 'Heure24_20',\n",
       "       'Heure24_21', 'Heure24_22', 'Heure24_23'], dtype=object)"
      ]
     },
     "execution_count": 9,
     "metadata": {},
     "output_type": "execute_result"
    }
   ],
   "source": [
    "donnees.columns.values"
   ]
  },
  {
   "cell_type": "code",
   "execution_count": 10,
   "metadata": {
    "ExecuteTime": {
     "end_time": "2020-12-29T19:06:05.972449Z",
     "start_time": "2020-12-29T19:06:05.671544Z"
    }
   },
   "outputs": [
    {
     "data": {
      "image/png": "[encoded data removed]",
      "text/plain": [
       "<Figure size 864x864 with 1 Axes>"
      ]
     },
     "metadata": {},
     "output_type": "display_data"
    }
   ],
   "source": [
    "donnees.Class.hist(bins=4, figsize=(12,12),label=\"Échantillon initial\");\n",
    "plt.legend();"
   ]
  },
  {
   "cell_type": "code",
   "execution_count": null,
   "metadata": {},
   "outputs": [],
   "source": []
  },
  {
   "cell_type": "code",
   "execution_count": null,
   "metadata": {},
   "outputs": [],
   "source": []
  },
  {
   "cell_type": "code",
   "execution_count": null,
   "metadata": {},
   "outputs": [],
   "source": []
  },
  {
   "cell_type": "code",
   "execution_count": null,
   "metadata": {},
   "outputs": [],
   "source": []
  },
  {
   "cell_type": "code",
   "execution_count": null,
   "metadata": {},
   "outputs": [],
   "source": []
  },
  {
   "cell_type": "code",
   "execution_count": null,
   "metadata": {},
   "outputs": [],
   "source": []
  },
  {
   "cell_type": "code",
   "execution_count": null,
   "metadata": {},
   "outputs": [],
   "source": []
  },
  {
   "cell_type": "code",
   "execution_count": null,
   "metadata": {},
   "outputs": [],
   "source": []
  },
  {
   "cell_type": "code",
   "execution_count": null,
   "metadata": {},
   "outputs": [],
   "source": []
  },
  {
   "cell_type": "code",
   "execution_count": null,
   "metadata": {},
   "outputs": [],
   "source": []
  },
  {
   "cell_type": "code",
   "execution_count": null,
   "metadata": {},
   "outputs": [],
   "source": []
  },
  {
   "cell_type": "code",
   "execution_count": null,
   "metadata": {},
   "outputs": [],
   "source": []
  },
  {
   "cell_type": "code",
   "execution_count": null,
   "metadata": {},
   "outputs": [],
   "source": []
  },
  {
   "cell_type": "code",
   "execution_count": null,
   "metadata": {},
   "outputs": [],
   "source": []
  },
  {
   "cell_type": "code",
   "execution_count": 12,
   "metadata": {
    "ExecuteTime": {
     "end_time": "2020-12-29T19:06:39.295276Z",
     "start_time": "2020-12-29T19:06:35.383332Z"
    }
   },
   "outputs": [
    {
     "name": "stderr",
     "output_type": "stream",
     "text": [
      "Using TensorFlow backend.\n"
     ]
    }
   ],
   "source": [
    "from imblearn.over_sampling import SMOTE\n",
    "\n",
    "smote = SMOTE(ratio='minority', n_jobs=-1)\n",
    "X_sampling, y_sampling = smote.fit_resample(donnees.drop(columns='Class').values,donnees.Class)\n",
    "\n",
    "X_SMOTE = pd.DataFrame(X_sampling, columns=donnees.drop(columns='Class').columns)\n",
    "X_SMOTE['Class'] = y_sampling"
   ]
  },
  {
   "cell_type": "code",
   "execution_count": 13,
   "metadata": {
    "ExecuteTime": {
     "end_time": "2020-12-29T19:06:40.492464Z",
     "start_time": "2020-12-29T19:06:40.297408Z"
    }
   },
   "outputs": [
    {
     "data": {
      "image/png": "[encoded data removed]",
      "text/plain": [
       "<Figure size 864x864 with 1 Axes>"
      ]
     },
     "metadata": {},
     "output_type": "display_data"
    }
   ],
   "source": [
    "X_SMOTE.Class.hist(bins=4, figsize=(12,12),label=\"Échantillon initial\");\n",
    "plt.legend();"
   ]
  },
  {
   "cell_type": "code",
   "execution_count": null,
   "metadata": {},
   "outputs": [],
   "source": []
  },
  {
   "cell_type": "code",
   "execution_count": 14,
   "metadata": {
    "ExecuteTime": {
     "end_time": "2020-12-29T19:06:50.173447Z",
     "start_time": "2020-12-29T19:06:49.618095Z"
    }
   },
   "outputs": [
    {
     "data": {
      "text/plain": [
       "((341176, 91), (227452, 91))"
      ]
     },
     "execution_count": 14,
     "metadata": {},
     "output_type": "execute_result"
    }
   ],
   "source": [
    "from sklearn.model_selection import train_test_split\n",
    "X_train, X_test, y_train, y_test = train_test_split(\n",
    "                                                    X_SMOTE.drop(columns='Class'), \n",
    "                                                    X_SMOTE.Class, test_size=0.4, \n",
    "                                                    random_state=0, \n",
    "                                                    stratify = X_SMOTE.Class) \n",
    "\n",
    "X_train.shape, X_test.shape"
   ]
  },
  {
   "cell_type": "code",
   "execution_count": 15,
   "metadata": {
    "ExecuteTime": {
     "end_time": "2020-12-29T19:06:50.854123Z",
     "start_time": "2020-12-29T19:06:50.622492Z"
    }
   },
   "outputs": [
    {
     "data": {
      "image/png": "[encoded data removed]",
      "text/plain": [
       "<Figure size 576x576 with 1 Axes>"
      ]
     },
     "metadata": {},
     "output_type": "display_data"
    }
   ],
   "source": [
    "y_train.hist(bins=7, figsize=(8,8), label='train');\n",
    "y_test.hist(bins=7, figsize=(8,8), label='test');\n",
    "plt.legend();"
   ]
  },
  {
   "cell_type": "code",
   "execution_count": 16,
   "metadata": {
    "ExecuteTime": {
     "end_time": "2020-12-29T19:06:51.972050Z",
     "start_time": "2020-12-29T19:06:51.894147Z"
    }
   },
   "outputs": [],
   "source": [
    "import numpy as np\n",
    "import matplotlib.pyplot as plt\n",
    "from matplotlib.colors import ListedColormap\n",
    "from sklearn.model_selection import train_test_split\n",
    "from sklearn.preprocessing import StandardScaler\n",
    "from sklearn.datasets import make_moons, make_circles, make_classification\n",
    "from sklearn.neural_network import MLPClassifier\n",
    "from sklearn.neighbors import KNeighborsClassifier\n",
    "from sklearn.svm import SVC\n",
    "from sklearn.gaussian_process import GaussianProcessClassifier\n",
    "from sklearn.gaussian_process.kernels import RBF\n",
    "from sklearn.tree import DecisionTreeClassifier\n",
    "from sklearn.ensemble import RandomForestClassifier, AdaBoostClassifier\n",
    "from sklearn.naive_bayes import GaussianNB\n",
    "from sklearn.discriminant_analysis import QuadraticDiscriminantAnalysis\n",
    "from sklearn.metrics import roc_curve, auc\n",
    "\n",
    "names = [\"Decision Tree\", \n",
    "         \"Random Forest\",\n",
    "         \"AdaBoost\",\n",
    "         #\"Nearest Neighbors\", \n",
    "         #\"Linear SVM\", \n",
    "         #\"RBF SVM\", #\"Gaussian Process\",\n",
    "         #\"Neural Net\", \n",
    "         #\"Naive Bayes\", \n",
    "         #\"QDA\"\n",
    "        ]\n",
    "\n",
    "classifiers = [\n",
    "    DecisionTreeClassifier(max_depth=5),\n",
    "    RandomForestClassifier(max_depth=5, \n",
    "                           n_estimators=100, max_features=4),    \n",
    "    AdaBoostClassifier(n_estimators=100),    \n",
    "    #KNeighborsClassifier(10),\n",
    "    #SVC(kernel=\"linear\", C=0.025, probability=True),\n",
    "    #SVC(gamma=0.001, C=0.025, probability=True),\n",
    "    #GaussianProcessClassifier(1.0 * RBF(1.0)),\n",
    "    #MLPClassifier(alpha=1),\n",
    "    #GaussianNB(),\n",
    "    #QuadraticDiscriminantAnalysis()\n",
    "]"
   ]
  },
  {
   "cell_type": "code",
   "execution_count": 17,
   "metadata": {
    "ExecuteTime": {
     "end_time": "2020-12-29T19:12:12.881215Z",
     "start_time": "2020-12-29T19:06:53.842656Z"
    }
   },
   "outputs": [
    {
     "name": "stdout",
     "output_type": "stream",
     "text": [
      "Decision Tree     95.4834\t--\tArea under the ROC curve : 0.9845\t--\tExécution  :11.31s\n",
      "Random Forest     93.2469\t--\tArea under the ROC curve : 0.9942\t--\tExécution  :41.01s\n",
      "AdaBoost          99.3111\t--\tArea under the ROC curve : 0.9998\t--\tExécution  :266.45s\n"
     ]
    },
    {
     "data": {
      "image/png": "[encoded data removed]",
      "text/plain": [
       "<Figure size 1296x1296 with 1 Axes>"
      ]
     },
     "metadata": {},
     "output_type": "display_data"
    },
    {
     "name": "stdout",
     "output_type": "stream",
     "text": [
      "Exécution  :318.99s\n"
     ]
    }
   ],
   "source": [
    "np.random.seed(123456)\n",
    "t0 = time.time()  \n",
    "h = .02  # step size in the mesh\n",
    "\n",
    "import seaborn as sns\n",
    "plt.figure(figsize=(18,18))\n",
    "plt.style.use('seaborn-darkgrid')\n",
    "\n",
    "for name, clf in zip(names, classifiers):\n",
    "    t1 = time.time()  \n",
    "    clf.fit(X_train, y_train)\n",
    "    score = clf.score(X_test, y_test)*100\n",
    "    print(f'{name:17s}'+(' %.4f' % score).lstrip('0'),end='\\t--\\t')\n",
    "    probas = clf.predict_proba(X_test)\n",
    "    fpr, tpr, thresholds = roc_curve(y_test.ravel(), probas[:, 1])\n",
    "    roc_auc = auc(fpr, tpr)\n",
    "    print (\"Area under the ROC curve : %0.4f\" % roc_auc,end='\\t--\\t')\n",
    "    plt.plot(fpr, tpr, label=name + '(AUC = %0.4f)' % roc_auc)\n",
    "    plt.plot([0, 1], [0, 1], 'k--')\n",
    "    plt.xlim([-0.05, 1.05])\n",
    "    plt.ylim([-0.05, 1.05])\n",
    "    plt.xlabel('Le taux de faux Positifs(1 - Specificity)',size=18)\n",
    "    plt.ylabel('Le taux de vrais positifs(Sensitivity)',size=18)\n",
    "    plt.title('La courbe ROC (Receiver Operating Caracteristic)',size=20)\n",
    "    plt.legend(loc=\"lower right\")\n",
    "    print('Exécution  :'+('%.2fs' % (time.time() - t1)).lstrip('0'))\n",
    "plt.show()\n",
    "      \n",
    "print('Exécution  :'+('%.2fs' % (time.time() - t0)).lstrip('0'))"
   ]
  },
  {
   "cell_type": "code",
   "execution_count": 18,
   "metadata": {
    "ExecuteTime": {
     "end_time": "2020-12-29T19:12:42.206201Z",
     "start_time": "2020-12-29T19:12:34.318358Z"
    }
   },
   "outputs": [],
   "source": [
    "y_pred = classifiers[2].predict(X_test)"
   ]
  },
  {
   "cell_type": "code",
   "execution_count": 19,
   "metadata": {
    "ExecuteTime": {
     "end_time": "2020-12-29T19:12:42.226285Z",
     "start_time": "2020-12-29T19:12:42.208217Z"
    }
   },
   "outputs": [],
   "source": [
    "from sklearn.metrics                  import make_scorer, confusion_matrix, roc_curve, auc, accuracy_score, log_loss, hamming_loss, \\\n",
    "                                            precision_score, recall_score, f1_score, jaccard_score,  \\\n",
    "                                            precision_recall_curve, average_precision_score"
   ]
  },
  {
   "cell_type": "code",
   "execution_count": 20,
   "metadata": {
    "ExecuteTime": {
     "end_time": "2020-12-29T19:12:43.522508Z",
     "start_time": "2020-12-29T19:12:43.506854Z"
    }
   },
   "outputs": [],
   "source": [
    "def afficheMetrics( y_test, y_pred):\n",
    "    accuracy                 = accuracy_score (y_test,y_pred)\n",
    "    logloss                  = log_loss       (y_test,y_pred)\n",
    "    hammingloss              = hamming_loss   (y_test,y_pred)\n",
    "    precision                = precision_score(y_test,y_pred)\n",
    "    sensibilite              = recall_score   (y_test,y_pred)\n",
    "    f1                       = f1_score       (y_test,y_pred)\n",
    "    jaccard                  = jaccard_score  (y_test,y_pred)\n",
    "    vrais_negatifs           = confusion_matrix(y_test, y_pred)[0, 0]\n",
    "    faux_positifs            = confusion_matrix(y_test, y_pred)[0, 1]\n",
    "    faux_negatifs            = confusion_matrix(y_test, y_pred)[1, 0]\n",
    "    vrais_positifs           = confusion_matrix(y_test, y_pred)[1, 1]\n",
    "\n",
    "    print(\n",
    "          \" accuracy           : %.2f%%\\n\" % (accuracy * 100.0),       \n",
    "          \"sensibilité/rappel : %.6f\\n\" % sensibilite       ,\n",
    "          \"précision          : %.6f\\n\" % precision         ,\n",
    "          \"f1                 : %.6f\\n\" % f1                ,\n",
    "          \"-\"*20,\n",
    "          \"\\n logloss            : %.6f\\n\" % logloss           ,\n",
    "          \"hammingloss        : %.6f\\n\" % hammingloss       ,\n",
    "          \"jaccard            : %.6f\\n\" % jaccard           ,\n",
    "          \"-\"*20,\n",
    "          \"\\n vrais_negatifs     : %.6f\\n\" % vrais_negatifs    ,\n",
    "          \"faux_positifs      : %.6f\\n\" % faux_positifs     ,\n",
    "          \"faux_negatifs      : %.6f\\n\" % faux_negatifs     ,\n",
    "          \"vrais_positifs     : %.6f\\n\" % vrais_positifs    \n",
    "         )\n",
    "\n",
    "    classificationMetrics   =     {\n",
    "        'accuracy'       :accuracy   ,\n",
    "        'sensibilite'    :sensibilite, \n",
    "        'precision'      :precision  , \n",
    "        'f1'             :f1         , \n",
    "        'logloss'        :logloss    , \n",
    "        'hammingloss'    :hammingloss, \n",
    "        'jaccard'        :jaccard    , \n",
    "        'vrais_negatifs' :vrais_negatifs ,\n",
    "        'faux_positifs'  :faux_positifs  ,\n",
    "        'faux_negatifs'  :faux_negatifs  ,\n",
    "        'vrais_positifs' :vrais_positifs    \n",
    "        }     \n",
    "    return classificationMetrics"
   ]
  },
  {
   "cell_type": "code",
   "execution_count": 21,
   "metadata": {
    "ExecuteTime": {
     "end_time": "2020-12-29T19:12:53.594433Z",
     "start_time": "2020-12-29T19:12:52.591347Z"
    }
   },
   "outputs": [
    {
     "name": "stdout",
     "output_type": "stream",
     "text": [
      " accuracy           : 99.31%\n",
      " sensibilité/rappel : 0.991066\n",
      " précision          : 0.995135\n",
      " f1                 : 0.993097\n",
      " -------------------- \n",
      " logloss            : 0.237952\n",
      " hammingloss        : 0.006889\n",
      " jaccard            : 0.986288\n",
      " -------------------- \n",
      " vrais_negatifs     : 113175.000000\n",
      " faux_positifs      : 551.000000\n",
      " faux_negatifs      : 1016.000000\n",
      " vrais_positifs     : 112710.000000\n",
      "\n"
     ]
    },
    {
     "data": {
      "text/plain": [
       "{'accuracy': 0.9931106343316392,\n",
       " 'sensibilite': 0.9910662469444103,\n",
       " 'precision': 0.9951351303626138,\n",
       " 'f1': 0.9930965209461334,\n",
       " 'logloss': 0.23795219733838036,\n",
       " 'hammingloss': 0.006889365668360797,\n",
       " 'jaccard': 0.9862877044374634,\n",
       " 'vrais_negatifs': 113175,\n",
       " 'faux_positifs': 551,\n",
       " 'faux_negatifs': 1016,\n",
       " 'vrais_positifs': 112710}"
      ]
     },
     "execution_count": 21,
     "metadata": {},
     "output_type": "execute_result"
    }
   ],
   "source": [
    "afficheMetrics( y_test, y_pred)"
   ]
  },
  {
   "cell_type": "code",
   "execution_count": 22,
   "metadata": {
    "ExecuteTime": {
     "end_time": "2020-12-29T19:13:04.042803Z",
     "start_time": "2020-12-29T19:13:03.858552Z"
    }
   },
   "outputs": [
    {
     "data": {
      "text/plain": [
       "array([[113175,    551],\n",
       "       [  1016, 112710]], dtype=int64)"
      ]
     },
     "execution_count": 22,
     "metadata": {},
     "output_type": "execute_result"
    }
   ],
   "source": [
    "confusion_matrix(y_test, y_pred)"
   ]
  },
  {
   "cell_type": "code",
   "execution_count": 23,
   "metadata": {
    "ExecuteTime": {
     "end_time": "2020-12-29T19:13:24.005986Z",
     "start_time": "2020-12-29T19:13:23.983820Z"
    }
   },
   "outputs": [],
   "source": [
    "def afficheImportanceVariables(classifieur, X, nom = 'RF'):\n",
    "    importances = pd.DataFrame(X.columns, columns=['nom'])\n",
    "    importances['importance'] = classifieur.feature_importances_\n",
    "    importances.sort_values(by='importance',ascending=False, inplace=True)\n",
    "\n",
    "    sns_plot = sns.catplot(x='nom', y='importance',data=importances, kind='bar', size=18,  aspect=4);\n",
    "    loc, labels = plt.xticks()\n",
    "    sns_plot.set_xticklabels(labels, rotation=90);\n",
    "    #self.sauvegarderImage(self.nom_projet+f'--ImportanceVariables--Classifieur--{nom:s}--'+time.strftime(\"%Y%m%d-%H.%M.%S\"))\n",
    "    plt.show()\n",
    "    return importances\n"
   ]
  },
  {
   "cell_type": "code",
   "execution_count": 24,
   "metadata": {
    "ExecuteTime": {
     "end_time": "2020-12-29T19:13:34.961737Z",
     "start_time": "2020-12-29T19:13:29.841766Z"
    }
   },
   "outputs": [
    {
     "data": {
      "image/png": "[encoded data removed]",
      "text/plain": [
       "<Figure size 5184x1296 with 1 Axes>"
      ]
     },
     "metadata": {},
     "output_type": "display_data"
    },
    {
     "data": {
      "text/html": [
       "<div>\n",
       "<style scoped>\n",
       "    .dataframe tbody tr th:only-of-type {\n",
       "        vertical-align: middle;\n",
       "    }\n",
       "\n",
       "    .dataframe tbody tr th {\n",
       "        vertical-align: top;\n",
       "    }\n",
       "\n",
       "    .dataframe thead th {\n",
       "        text-align: right;\n",
       "    }\n",
       "</style>\n",
       "<table border=\"1\" class=\"dataframe\">\n",
       "  <thead>\n",
       "    <tr style=\"text-align: right;\">\n",
       "      <th></th>\n",
       "      <th>nom</th>\n",
       "      <th>importance</th>\n",
       "    </tr>\n",
       "  </thead>\n",
       "  <tbody>\n",
       "    <tr>\n",
       "      <th>30</th>\n",
       "      <td>Temps</td>\n",
       "      <td>0.08</td>\n",
       "    </tr>\n",
       "    <tr>\n",
       "      <th>13</th>\n",
       "      <td>V14</td>\n",
       "      <td>0.08</td>\n",
       "    </tr>\n",
       "    <tr>\n",
       "      <th>3</th>\n",
       "      <td>V4</td>\n",
       "      <td>0.05</td>\n",
       "    </tr>\n",
       "    <tr>\n",
       "      <th>36</th>\n",
       "      <td>Heure24_AmountLog_skw</td>\n",
       "      <td>0.04</td>\n",
       "    </tr>\n",
       "    <tr>\n",
       "      <th>7</th>\n",
       "      <td>V8</td>\n",
       "      <td>0.03</td>\n",
       "    </tr>\n",
       "    <tr>\n",
       "      <th>...</th>\n",
       "      <td>...</td>\n",
       "      <td>...</td>\n",
       "    </tr>\n",
       "    <tr>\n",
       "      <th>54</th>\n",
       "      <td>Heure24_Temps_95p</td>\n",
       "      <td>0.00</td>\n",
       "    </tr>\n",
       "    <tr>\n",
       "      <th>55</th>\n",
       "      <td>Heure24_Temps_99p</td>\n",
       "      <td>0.00</td>\n",
       "    </tr>\n",
       "    <tr>\n",
       "      <th>56</th>\n",
       "      <td>Heure24_Temps_iqr</td>\n",
       "      <td>0.00</td>\n",
       "    </tr>\n",
       "    <tr>\n",
       "      <th>59</th>\n",
       "      <td>Heure24_AmountDec_ect</td>\n",
       "      <td>0.00</td>\n",
       "    </tr>\n",
       "    <tr>\n",
       "      <th>90</th>\n",
       "      <td>Heure24_23</td>\n",
       "      <td>0.00</td>\n",
       "    </tr>\n",
       "  </tbody>\n",
       "</table>\n",
       "<p>91 rows × 2 columns</p>\n",
       "</div>"
      ],
      "text/plain": [
       "                      nom  importance\n",
       "30                  Temps        0.08\n",
       "13                    V14        0.08\n",
       "3                      V4        0.05\n",
       "36  Heure24_AmountLog_skw        0.04\n",
       "7                      V8        0.03\n",
       "..                    ...         ...\n",
       "54      Heure24_Temps_95p        0.00\n",
       "55      Heure24_Temps_99p        0.00\n",
       "56      Heure24_Temps_iqr        0.00\n",
       "59  Heure24_AmountDec_ect        0.00\n",
       "90             Heure24_23        0.00\n",
       "\n",
       "[91 rows x 2 columns]"
      ]
     },
     "execution_count": 24,
     "metadata": {},
     "output_type": "execute_result"
    }
   ],
   "source": [
    "afficheImportanceVariables(classifiers[2],X_test)"
   ]
  },
  {
   "cell_type": "code",
   "execution_count": null,
   "metadata": {},
   "outputs": [],
   "source": []
  },
  {
   "cell_type": "code",
   "execution_count": null,
   "metadata": {},
   "outputs": [],
   "source": []
  },
  {
   "cell_type": "code",
   "execution_count": null,
   "metadata": {
    "ExecuteTime": {
     "end_time": "2020-12-29T10:19:24.596194Z",
     "start_time": "2020-12-29T10:19:24.283309Z"
    }
   },
   "outputs": [],
   "source": [
    "donnees.groupby('Heure24').agg(AmountLog_min=pd.NamedAgg(column='AmountLog', aggfunc='min'))"
   ]
  },
  {
   "cell_type": "code",
   "execution_count": null,
   "metadata": {
    "ExecuteTime": {
     "end_time": "2020-12-29T08:41:06.965995Z",
     "start_time": "2020-12-29T08:41:06.927417Z"
    }
   },
   "outputs": [],
   "source": [
    "donnees[['Class', 'Temps', 'Amount',\n",
    "         'Heure24', 'HeureMinute', 'Minute30', 'AmountLog', 'AmountDec']]"
   ]
  },
  {
   "cell_type": "code",
   "execution_count": null,
   "metadata": {
    "ExecuteTime": {
     "end_time": "2020-12-29T08:41:26.742774Z",
     "start_time": "2020-12-29T08:41:26.640311Z"
    }
   },
   "outputs": [],
   "source": [
    "donnees[['Class', 'Temps', 'Amount',\n",
    "         'Heure24', 'HeureMinute', 'Minute30', 'AmountLog', 'AmountDec']].describe()"
   ]
  },
  {
   "cell_type": "code",
   "execution_count": null,
   "metadata": {
    "ExecuteTime": {
     "end_time": "2020-12-29T08:27:37.266041Z",
     "start_time": "2020-12-29T08:27:37.205437Z"
    }
   },
   "outputs": [],
   "source": [
    "donnees[['Class','Time','Temps', 'Amount',\n",
    "       'Heure24', 'HeureMinute',\n",
    "       'Minute30', 'AmountLog', 'AmountDec']][(donnees.AmountDec > 0)&\n",
    "                                              (donnees.AmountDec < 0.02)&\n",
    "                                              (donnees.Class == 0)].describe()"
   ]
  },
  {
   "cell_type": "code",
   "execution_count": null,
   "metadata": {
    "ExecuteTime": {
     "end_time": "2020-12-29T08:42:43.279192Z",
     "start_time": "2020-12-29T08:42:37.260101Z"
    }
   },
   "outputs": [],
   "source": [
    "plt.figure(figsize=(24,16))\n",
    "sns.violinplot(x='HeureMinute',y='AmountDec',data=donnees,hue='Class',split=True,palette=palette);"
   ]
  },
  {
   "cell_type": "code",
   "execution_count": null,
   "metadata": {
    "ExecuteTime": {
     "end_time": "2020-12-29T08:33:13.661800Z",
     "start_time": "2020-12-29T08:33:12.150509Z"
    }
   },
   "outputs": [],
   "source": [
    "plt.figure(figsize=(24,16))\n",
    "sns.violinplot(x='Heure24',y='AmountLog',data=donnees,hue='Class',split=True,palette=palette);"
   ]
  },
  {
   "cell_type": "code",
   "execution_count": null,
   "metadata": {
    "ExecuteTime": {
     "end_time": "2020-12-28T22:13:40.902232Z",
     "start_time": "2020-12-28T22:13:37.129594Z"
    }
   },
   "outputs": [],
   "source": [
    "plt.figure(figsize=(24,8))\n",
    "sns.barplot(x='Heure24', \n",
    "               y='Temps',\n",
    "               hue='Class',\n",
    "               data=donnees,\n",
    "               estimator=mean,\n",
    "               #alpha=0.9,\n",
    "               palette=palette\n",
    "              );"
   ]
  },
  {
   "cell_type": "code",
   "execution_count": null,
   "metadata": {
    "ExecuteTime": {
     "end_time": "2020-12-28T22:14:47.625795Z",
     "start_time": "2020-12-28T22:14:42.107741Z"
    }
   },
   "outputs": [],
   "source": [
    "plt.figure(figsize=(24,8))\n",
    "sns.barplot(x='Minute30', \n",
    "               y='Temps',\n",
    "               hue='Class',\n",
    "               data=donnees,\n",
    "               estimator=mean,\n",
    "               #alpha=0.9,\n",
    "               palette=palette\n",
    "              );"
   ]
  },
  {
   "cell_type": "code",
   "execution_count": null,
   "metadata": {
    "ExecuteTime": {
     "end_time": "2020-12-28T22:07:51.682819Z",
     "start_time": "2020-12-28T22:07:48.051062Z"
    }
   },
   "outputs": [],
   "source": [
    "plt.figure(figsize=(24,8))\n",
    "sns.barplot(x='Heure24', \n",
    "               y='Amount',\n",
    "               hue='Class',\n",
    "               data=donnees,\n",
    "               estimator=mean,\n",
    "               #alpha=0.9,\n",
    "               palette=palette\n",
    "              );"
   ]
  },
  {
   "cell_type": "code",
   "execution_count": null,
   "metadata": {
    "ExecuteTime": {
     "end_time": "2020-12-28T21:44:42.317889Z",
     "start_time": "2020-12-28T21:44:37.712647Z"
    }
   },
   "outputs": [],
   "source": [
    "plt.figure(figsize=(24,8))\n",
    "sns.barplot(x='Minute30', \n",
    "               y='Amount',\n",
    "               hue='Class',\n",
    "               data=donnees,\n",
    "               estimator=mean,\n",
    "               #alpha=0.9,\n",
    "               palette=palette\n",
    "              );"
   ]
  },
  {
   "cell_type": "code",
   "execution_count": null,
   "metadata": {
    "ExecuteTime": {
     "end_time": "2020-12-28T20:00:20.006151Z",
     "start_time": "2020-12-28T20:00:07.920890Z"
    }
   },
   "outputs": [],
   "source": [
    "plt.figure(figsize=(56,12))\n",
    "ax = sns.barplot(x='HeureMinute', \n",
    "               y='AmountLog',\n",
    "               hue='Class',\n",
    "               data=donnees,\n",
    "               estimator=mean,\n",
    "               #alpha=0.9,\n",
    "               palette=palette\n",
    "              );\n",
    "ax.set_xticklabels(donnees.HeureMinute.unique(),rotation=90);"
   ]
  },
  {
   "cell_type": "code",
   "execution_count": null,
   "metadata": {},
   "outputs": [],
   "source": [
    "'Time', 'Amount',\n",
    "       'Class', 'DateOrigine', 'Jour', 'Heure24', 'Minute', 'HeureMinute',\n",
    "       'Minute30', 'AmountLog', 'AmountInt', 'AmountDec'"
   ]
  },
  {
   "cell_type": "code",
   "execution_count": null,
   "metadata": {},
   "outputs": [],
   "source": []
  },
  {
   "cell_type": "code",
   "execution_count": null,
   "metadata": {},
   "outputs": [],
   "source": []
  },
  {
   "cell_type": "code",
   "execution_count": null,
   "metadata": {},
   "outputs": [],
   "source": []
  },
  {
   "cell_type": "code",
   "execution_count": null,
   "metadata": {},
   "outputs": [],
   "source": []
  },
  {
   "cell_type": "code",
   "execution_count": null,
   "metadata": {
    "ExecuteTime": {
     "end_time": "2020-12-28T18:28:56.817503Z",
     "start_time": "2020-12-28T18:28:52.599176Z"
    }
   },
   "outputs": [],
   "source": [
    "g = sns.catplot(\"HeureMinute\", data=donnees[(donnees.Class == 1)], aspect=1.5, kind=\"count\", color=\"b\", size=30)\n",
    "g.set_xticklabels(rotation=90);"
   ]
  },
  {
   "cell_type": "code",
   "execution_count": null,
   "metadata": {
    "ExecuteTime": {
     "end_time": "2020-12-28T14:17:30.729626Z",
     "start_time": "2020-12-28T14:17:24.928362Z"
    }
   },
   "outputs": [],
   "source": [
    "plt.figure(figsize=(48,16))\n",
    "sns.violinplot(x='HeureMinute',y='AmountDec',data=donnees[(donnees.Class >= 0)],hue='Class',split=True);"
   ]
  },
  {
   "cell_type": "code",
   "execution_count": null,
   "metadata": {
    "ExecuteTime": {
     "end_time": "2020-12-28T14:32:28.597437Z",
     "start_time": "2020-12-28T14:32:27.094559Z"
    }
   },
   "outputs": [],
   "source": [
    "plt.figure(figsize=(24,16))\n",
    "sns.violinplot(x='Heure24',y='AmountLog',data=donnees[(donnees.Class >= 0)],hue='Jour',split=True);"
   ]
  },
  {
   "cell_type": "code",
   "execution_count": null,
   "metadata": {},
   "outputs": [],
   "source": []
  },
  {
   "cell_type": "code",
   "execution_count": null,
   "metadata": {},
   "outputs": [],
   "source": []
  },
  {
   "cell_type": "code",
   "execution_count": null,
   "metadata": {},
   "outputs": [],
   "source": []
  },
  {
   "cell_type": "code",
   "execution_count": null,
   "metadata": {},
   "outputs": [],
   "source": []
  },
  {
   "cell_type": "code",
   "execution_count": null,
   "metadata": {},
   "outputs": [],
   "source": []
  },
  {
   "cell_type": "code",
   "execution_count": null,
   "metadata": {},
   "outputs": [],
   "source": []
  },
  {
   "cell_type": "code",
   "execution_count": null,
   "metadata": {},
   "outputs": [],
   "source": []
  },
  {
   "cell_type": "code",
   "execution_count": null,
   "metadata": {
    "ExecuteTime": {
     "end_time": "2020-12-28T08:48:48.911962Z",
     "start_time": "2020-12-28T08:48:48.895349Z"
    }
   },
   "outputs": [],
   "source": []
  },
  {
   "cell_type": "code",
   "execution_count": null,
   "metadata": {
    "ExecuteTime": {
     "end_time": "2020-12-28T08:51:49.529307Z",
     "start_time": "2020-12-28T08:51:49.497991Z"
    }
   },
   "outputs": [],
   "source": [
    "donnees[(donnees.Amount == 0)&(donnees.Class == 1)].count()"
   ]
  },
  {
   "cell_type": "code",
   "execution_count": null,
   "metadata": {},
   "outputs": [],
   "source": []
  },
  {
   "cell_type": "code",
   "execution_count": null,
   "metadata": {
    "ExecuteTime": {
     "end_time": "2020-12-28T08:48:58.581470Z",
     "start_time": "2020-12-28T08:48:54.980774Z"
    }
   },
   "outputs": [],
   "source": [
    "plt.figure(figsize=(24,16))\n",
    "sns.violinplot(x='Heure24',y='AmountLog',data=donnees[(donnees.Class == 0)],hue='Jour',split=True);"
   ]
  },
  {
   "cell_type": "code",
   "execution_count": null,
   "metadata": {
    "ExecuteTime": {
     "end_time": "2020-12-27T15:26:09.734963Z",
     "start_time": "2020-12-27T15:26:08.051678Z"
    }
   },
   "outputs": [],
   "source": [
    "plt.figure(figsize=(24,16))\n",
    "sns.violinplot(x='Minute30',y='AmountLog',data=donnees[(donnees.Class == 1)],hue='Jour',size=30);"
   ]
  },
  {
   "cell_type": "code",
   "execution_count": null,
   "metadata": {
    "ExecuteTime": {
     "end_time": "2020-12-27T15:14:28.902830Z",
     "start_time": "2020-12-27T15:14:27.941566Z"
    }
   },
   "outputs": [],
   "source": [
    "g = sns.catplot(\"Minute30\", data=donnees[(donnees.Class == 1)], aspect=1.5, kind=\"count\", color=\"b\", size=30)\n",
    "g.set_xticklabels(rotation=90);"
   ]
  },
  {
   "cell_type": "code",
   "execution_count": null,
   "metadata": {
    "ExecuteTime": {
     "end_time": "2020-12-28T08:44:56.911743Z",
     "start_time": "2020-12-28T08:44:46.957210Z"
    }
   },
   "outputs": [],
   "source": [
    "g = sns.catplot(\"HeureMinute\", data=donnees[(donnees.Class == 1)], aspect=1.5, kind=\"count\", color=\"b\", size=30)\n",
    "g.set_xticklabels(rotation=90);"
   ]
  },
  {
   "cell_type": "code",
   "execution_count": null,
   "metadata": {
    "ExecuteTime": {
     "end_time": "2020-12-27T14:56:19.303514Z",
     "start_time": "2020-12-27T14:56:18.875903Z"
    }
   },
   "outputs": [],
   "source": [
    "plt.figure(figsize=(18,8))\n",
    "sns.distplot(donnees.HeureMinute[(donnees.Class == 1)],color='red',bins=144);"
   ]
  },
  {
   "cell_type": "code",
   "execution_count": null,
   "metadata": {
    "ExecuteTime": {
     "end_time": "2020-12-27T14:50:31.207694Z",
     "start_time": "2020-12-27T14:50:30.002476Z"
    }
   },
   "outputs": [],
   "source": [
    "plt.figure(figsize=(18,8))\n",
    "sns.distplot(donnees.HeureMinute[(donnees.Class == 0)],color='blue',bins=24);"
   ]
  },
  {
   "cell_type": "code",
   "execution_count": null,
   "metadata": {
    "ExecuteTime": {
     "end_time": "2020-12-27T14:45:17.268011Z",
     "start_time": "2020-12-27T14:45:17.027229Z"
    }
   },
   "outputs": [],
   "source": [
    "plt.figure(figsize=(18,8))\n",
    "sns.distplot(donnees.Amount[(donnees.Class == 1)],color='red');"
   ]
  },
  {
   "cell_type": "code",
   "execution_count": null,
   "metadata": {
    "ExecuteTime": {
     "end_time": "2020-12-27T14:46:03.621046Z",
     "start_time": "2020-12-27T14:46:03.416688Z"
    }
   },
   "outputs": [],
   "source": [
    "plt.figure(figsize=(18,8))\n",
    "sns.distplot(donnees.AmountDec[(donnees.Class == 1)],color='red');"
   ]
  },
  {
   "cell_type": "code",
   "execution_count": null,
   "metadata": {
    "ExecuteTime": {
     "end_time": "2020-12-27T14:46:52.113900Z",
     "start_time": "2020-12-27T14:46:51.013941Z"
    }
   },
   "outputs": [],
   "source": [
    "plt.figure(figsize=(18,8))\n",
    "sns.distplot(donnees.AmountDec[(donnees.Class == 0)],color='blue');"
   ]
  },
  {
   "cell_type": "code",
   "execution_count": null,
   "metadata": {
    "ExecuteTime": {
     "end_time": "2020-12-27T13:56:22.940099Z",
     "start_time": "2020-12-27T13:56:21.009233Z"
    }
   },
   "outputs": [],
   "source": [
    "plt.figure(figsize=(14,12))\n",
    "\n",
    "sns.distplot(donnees.AmountLog[(donnees.Class == 1)], label='Fraude',color='red')\n",
    "sns.distplot(donnees.AmountLog[(donnees.Class == 0)], label='Valide',color='blue')\n",
    "plt.legend()"
   ]
  },
  {
   "cell_type": "code",
   "execution_count": null,
   "metadata": {},
   "outputs": [],
   "source": []
  },
  {
   "cell_type": "code",
   "execution_count": null,
   "metadata": {
    "ExecuteTime": {
     "end_time": "2020-12-27T13:44:13.737268Z",
     "start_time": "2020-12-27T13:44:13.721627Z"
    }
   },
   "outputs": [],
   "source": [
    "donnees['AmountInt'] = (donnees.Amount - donnees.Amount%1).astype('int32')\n",
    "donnees['AmountDec'] = donnees.Amount%1"
   ]
  },
  {
   "cell_type": "code",
   "execution_count": null,
   "metadata": {
    "ExecuteTime": {
     "end_time": "2020-12-27T13:52:50.637126Z",
     "start_time": "2020-12-27T13:52:49.115939Z"
    }
   },
   "outputs": [],
   "source": [
    "plt.figure(figsize=(14,12))\n",
    "\n",
    "sns.distplot(donnees.AmountInt[(donnees.Amount < 200)&\n",
    "                                (donnees.Class == 1)], label='Fraude',color='red')\n",
    "sns.distplot(donnees.AmountInt[(donnees.Amount < 200)&\n",
    "                                (donnees.Class == 0)], label='Valide',color='blue')\n",
    "plt.legend()"
   ]
  },
  {
   "cell_type": "code",
   "execution_count": null,
   "metadata": {
    "ExecuteTime": {
     "end_time": "2020-12-27T13:50:44.233928Z",
     "start_time": "2020-12-27T13:50:43.086338Z"
    }
   },
   "outputs": [],
   "source": [
    "plt.figure(figsize=(14,12))\n",
    "\n",
    "sns.distplot(donnees.AmountDec[#(donnees.Amount < 100)&\n",
    "                                (donnees.Class == 1)], label='Fraude',color='red')\n",
    "sns.distplot(donnees.AmountDec[#(donnees.Amount < 100)&\n",
    "                                (donnees.Class == 0)], label='Valide',color='blue')\n",
    "plt.legend()    \n",
    "#plt.show()    "
   ]
  },
  {
   "cell_type": "code",
   "execution_count": null,
   "metadata": {},
   "outputs": [],
   "source": []
  },
  {
   "cell_type": "code",
   "execution_count": null,
   "metadata": {},
   "outputs": [],
   "source": []
  },
  {
   "cell_type": "code",
   "execution_count": null,
   "metadata": {},
   "outputs": [],
   "source": []
  },
  {
   "cell_type": "code",
   "execution_count": null,
   "metadata": {
    "ExecuteTime": {
     "end_time": "2020-12-27T10:58:03.698159Z",
     "start_time": "2020-12-27T10:58:02.402552Z"
    }
   },
   "outputs": [],
   "source": [
    "plt.figure(figsize=(14,12))\n",
    "sns.distplot(donnees.DateOrigine)"
   ]
  },
  {
   "cell_type": "code",
   "execution_count": null,
   "metadata": {},
   "outputs": [],
   "source": []
  },
  {
   "cell_type": "code",
   "execution_count": null,
   "metadata": {},
   "outputs": [],
   "source": []
  },
  {
   "cell_type": "code",
   "execution_count": null,
   "metadata": {
    "ExecuteTime": {
     "end_time": "2020-12-27T10:58:41.677988Z",
     "start_time": "2020-12-27T10:58:40.401250Z"
    }
   },
   "outputs": [],
   "source": [
    "plt.figure(figsize=(14,12))\n",
    "sns.distplot(donnees.Heure24,bins=23)"
   ]
  },
  {
   "cell_type": "code",
   "execution_count": null,
   "metadata": {
    "ExecuteTime": {
     "end_time": "2020-12-27T10:59:05.762214Z",
     "start_time": "2020-12-27T10:59:04.486438Z"
    }
   },
   "outputs": [],
   "source": [
    "plt.figure(figsize=(14,12))\n",
    "sns.distplot(donnees.DateOrigine)"
   ]
  },
  {
   "cell_type": "code",
   "execution_count": null,
   "metadata": {
    "ExecuteTime": {
     "end_time": "2020-12-26T16:44:29.368912Z",
     "start_time": "2020-12-26T16:44:27.104316Z"
    }
   },
   "outputs": [],
   "source": [
    "plt.figure(figsize=(14,12))\n",
    "sns.distplot(donnees.Time/3600%23)"
   ]
  },
  {
   "cell_type": "code",
   "execution_count": null,
   "metadata": {
    "ExecuteTime": {
     "end_time": "2020-12-27T11:00:48.590101Z",
     "start_time": "2020-12-27T11:00:48.258870Z"
    }
   },
   "outputs": [],
   "source": [
    "donnees.head()"
   ]
  },
  {
   "cell_type": "code",
   "execution_count": null,
   "metadata": {
    "ExecuteTime": {
     "end_time": "2019-10-02T09:12:20.045936Z",
     "start_time": "2019-10-02T09:12:15.968798Z"
    }
   },
   "outputs": [],
   "source": [
    "donnees = pd.read_csv('donnees/creditCard.csv').iloc[:,1:]\n",
    "donnees = donnees[~donnees.Time.isna()]\n",
    "donnees.Time = round((donnees['Time'] / 3600) % 23).astype('int8')\n",
    "donnees.head()"
   ]
  },
  {
   "cell_type": "code",
   "execution_count": null,
   "metadata": {
    "ExecuteTime": {
     "end_time": "2019-10-02T09:12:20.061556Z",
     "start_time": "2019-10-02T09:12:20.045936Z"
    }
   },
   "outputs": [],
   "source": [
    "donnees.shape"
   ]
  },
  {
   "cell_type": "code",
   "execution_count": null,
   "metadata": {
    "ExecuteTime": {
     "end_time": "2019-10-02T09:12:20.210521Z",
     "start_time": "2019-10-02T09:12:20.061556Z"
    }
   },
   "outputs": [],
   "source": [
    "pd.crosstab(donnees.Class,1)"
   ]
  },
  {
   "cell_type": "code",
   "execution_count": null,
   "metadata": {
    "ExecuteTime": {
     "end_time": "2019-10-02T09:12:20.241764Z",
     "start_time": "2019-10-02T09:12:20.210521Z"
    }
   },
   "outputs": [],
   "source": [
    "donnees.Time.unique()"
   ]
  },
  {
   "cell_type": "code",
   "execution_count": null,
   "metadata": {
    "ExecuteTime": {
     "end_time": "2019-10-02T09:12:22.932020Z",
     "start_time": "2019-10-02T09:12:20.241764Z"
    }
   },
   "outputs": [],
   "source": [
    "plt.figure(figsize=(14,12))\n",
    "\n",
    "for i in range(24):\n",
    "    sns.distplot(donnees.Amount[(donnees.Time == i) &\n",
    "                                #(donnees.Amount < 250) &\n",
    "                                (donnees.Class == 1) ], label=str(i))\n",
    "\n",
    "plt.legend();    \n",
    "plt.show()    "
   ]
  },
  {
   "cell_type": "code",
   "execution_count": null,
   "metadata": {
    "ExecuteTime": {
     "end_time": "2020-12-27T10:29:38.468027Z",
     "start_time": "2020-12-27T10:29:37.042173Z"
    }
   },
   "outputs": [],
   "source": [
    "plt.figure(figsize=(14,12))\n",
    "\n",
    "sns.distplot(donnees.Heure28[#(donnees.Amount < 100)&\n",
    "                                (donnees.Class == 1)], label='Fraude')\n",
    "sns.distplot(donnees.Heure28[#(donnees.Amount < 100)&\n",
    "                                (donnees.Class == 0)], label='Valide')\n",
    "plt.legend()    \n",
    "#plt.show()    "
   ]
  },
  {
   "cell_type": "code",
   "execution_count": null,
   "metadata": {
    "ExecuteTime": {
     "end_time": "2019-07-31T14:58:26.841253Z",
     "start_time": "2019-07-31T14:58:26.825630Z"
    }
   },
   "outputs": [],
   "source": [
    "X = (donnees.Amount - donnees.Amount.mean())/donnees.Amount.std()"
   ]
  },
  {
   "cell_type": "code",
   "execution_count": null,
   "metadata": {
    "ExecuteTime": {
     "end_time": "2020-12-27T10:30:52.867076Z",
     "start_time": "2020-12-27T10:30:52.836035Z"
    }
   },
   "outputs": [],
   "source": [
    "donnees.Amount.min(),donnees.Amount.max()"
   ]
  },
  {
   "cell_type": "code",
   "execution_count": null,
   "metadata": {
    "ExecuteTime": {
     "end_time": "2020-12-27T10:43:13.578463Z",
     "start_time": "2020-12-27T10:43:12.568996Z"
    }
   },
   "outputs": [],
   "source": [
    "plt.figure(figsize=(24,18))\n",
    "sns.boxplot(x='Heure24',y='Amount', data=donnees,hue='Class')"
   ]
  },
  {
   "cell_type": "code",
   "execution_count": null,
   "metadata": {
    "ExecuteTime": {
     "end_time": "2020-12-27T10:39:14.532973Z",
     "start_time": "2020-12-27T10:38:55.958129Z"
    }
   },
   "outputs": [],
   "source": [
    "sns.set(font_scale=3)\n",
    "sns.jointplot(x='Heure28',y='Amount', data=donnees, size=25)"
   ]
  },
  {
   "cell_type": "code",
   "execution_count": null,
   "metadata": {
    "ExecuteTime": {
     "end_time": "2020-12-27T10:33:20.672957Z",
     "start_time": "2020-12-27T10:33:19.018178Z"
    }
   },
   "outputs": [],
   "source": [
    "plt.figure(figsize=(14,12))\n",
    "sns.distplot(np.log(donnees.Amount[donnees.Class == 0]+1), label='Valid', color='blue')\n",
    "sns.distplot(np.log(donnees.Amount[donnees.Class == 1]+1), label='Fraude',color='red')\n",
    "plt.legend()"
   ]
  },
  {
   "cell_type": "code",
   "execution_count": null,
   "metadata": {
    "ExecuteTime": {
     "end_time": "2019-07-31T15:09:46.746836Z",
     "start_time": "2019-07-31T15:09:46.637699Z"
    }
   },
   "outputs": [],
   "source": [
    "pd.crosstab(donnees.Class,1)"
   ]
  },
  {
   "cell_type": "code",
   "execution_count": null,
   "metadata": {
    "ExecuteTime": {
     "end_time": "2019-07-31T15:10:28.256566Z",
     "start_time": "2019-07-31T15:10:28.241067Z"
    }
   },
   "outputs": [],
   "source": [
    "284314 / donnees.shape[0]"
   ]
  },
  {
   "cell_type": "code",
   "execution_count": null,
   "metadata": {
    "ExecuteTime": {
     "end_time": "2019-07-31T15:13:14.977491Z",
     "start_time": "2019-07-31T15:13:14.962065Z"
    }
   },
   "outputs": [],
   "source": [
    "284314 / 23"
   ]
  },
  {
   "cell_type": "code",
   "execution_count": null,
   "metadata": {
    "ExecuteTime": {
     "end_time": "2019-07-31T15:14:17.418581Z",
     "start_time": "2019-07-31T15:14:17.387486Z"
    }
   },
   "outputs": [],
   "source": [
    "23*300"
   ]
  },
  {
   "cell_type": "code",
   "execution_count": null,
   "metadata": {},
   "outputs": [],
   "source": []
  },
  {
   "cell_type": "code",
   "execution_count": null,
   "metadata": {},
   "outputs": [],
   "source": []
  },
  {
   "cell_type": "code",
   "execution_count": null,
   "metadata": {},
   "outputs": [],
   "source": []
  },
  {
   "cell_type": "code",
   "execution_count": null,
   "metadata": {},
   "outputs": [],
   "source": []
  },
  {
   "cell_type": "code",
   "execution_count": null,
   "metadata": {},
   "outputs": [],
   "source": []
  },
  {
   "cell_type": "code",
   "execution_count": null,
   "metadata": {
    "ExecuteTime": {
     "end_time": "2019-07-31T14:03:39.247791Z",
     "start_time": "2019-07-31T14:03:39.232140Z"
    }
   },
   "outputs": [],
   "source": [
    "donnees.Cible.unique()\n",
    "cap_color =list(donnees.cap_color.unique())\n",
    "cap_color.sort()\n",
    "cap_color"
   ]
  },
  {
   "cell_type": "code",
   "execution_count": null,
   "metadata": {
    "ExecuteTime": {
     "end_time": "2019-07-31T14:03:39.982046Z",
     "start_time": "2019-07-31T14:03:39.247791Z"
    }
   },
   "outputs": [],
   "source": [
    "from sklearn.preprocessing import LabelEncoder\n",
    "import copy as cp\n",
    "modelsLEd = {} \n",
    "\n",
    "for col in donnees.columns:\n",
    "    labelencoder=LabelEncoder()\n",
    "    labelencoder.fit(donnees[col])\n",
    "    modelsLEd[col] = cp.deepcopy(labelencoder)"
   ]
  },
  {
   "cell_type": "code",
   "execution_count": null,
   "metadata": {
    "ExecuteTime": {
     "end_time": "2019-07-31T14:03:39.997585Z",
     "start_time": "2019-07-31T14:03:39.982046Z"
    }
   },
   "outputs": [],
   "source": [
    "modelsLEd"
   ]
  },
  {
   "cell_type": "code",
   "execution_count": null,
   "metadata": {
    "ExecuteTime": {
     "end_time": "2019-07-31T14:03:40.028832Z",
     "start_time": "2019-07-31T14:03:39.997585Z"
    }
   },
   "outputs": [],
   "source": [
    "import pickle\n",
    "pickle_file = \"champignonsLE.pickle\"\n",
    "\n",
    "with open(pickle_file, 'wb') as f:\n",
    "    pickle.dump( modelsLEd,f)\n"
   ]
  },
  {
   "cell_type": "code",
   "execution_count": null,
   "metadata": {
    "ExecuteTime": {
     "end_time": "2019-07-31T14:03:40.044453Z",
     "start_time": "2019-07-31T14:03:40.028832Z"
    }
   },
   "outputs": [],
   "source": [
    "pickle_file = \"champignonsLE.pickle\"\n",
    "\n",
    "with open(pickle_file, 'rb') as f:\n",
    "    modelsLEd = pickle.load(f)\n"
   ]
  },
  {
   "cell_type": "code",
   "execution_count": null,
   "metadata": {
    "ExecuteTime": {
     "end_time": "2019-07-31T14:03:40.091344Z",
     "start_time": "2019-07-31T14:03:40.044453Z"
    }
   },
   "outputs": [],
   "source": [
    "donnees.head() "
   ]
  },
  {
   "cell_type": "code",
   "execution_count": null,
   "metadata": {
    "ExecuteTime": {
     "end_time": "2019-07-31T14:03:40.200663Z",
     "start_time": "2019-07-31T14:03:40.091344Z"
    }
   },
   "outputs": [],
   "source": [
    "for col in donnees.columns:\n",
    "    donnees[col] = modelsLEd[col].transform(donnees[col])\n",
    "    \n",
    "donnees.head() "
   ]
  },
  {
   "cell_type": "raw",
   "metadata": {
    "ExecuteTime": {
     "end_time": "2019-05-17T13:39:50.466084Z",
     "start_time": "2019-05-17T13:39:50.372356Z"
    }
   },
   "source": [
    "for i, col in enumerate(donnees.columns):\n",
    "    donnees[col] = modelsLE[i].transform(donnees[col])\n",
    "    \n",
    "donnees.head()    "
   ]
  },
  {
   "cell_type": "code",
   "execution_count": null,
   "metadata": {
    "ExecuteTime": {
     "end_time": "2019-07-31T14:03:44.872679Z",
     "start_time": "2019-07-31T14:03:40.200663Z"
    }
   },
   "outputs": [],
   "source": [
    "plt.figure(figsize=(28,28))\n",
    "sns.set(font_scale=2)\n",
    "plt.title('Correlation Spearman des variables', y=1.05, size=24)\n",
    "sns.heatmap(donnees.corr(method='spearman'), fmt= '.1f',linewidths=0.3,vmax=1.0, \n",
    "            square=True, cmap='coolwarm', linecolor='white', annot=True);"
   ]
  },
  {
   "cell_type": "code",
   "execution_count": null,
   "metadata": {
    "ExecuteTime": {
     "end_time": "2019-07-31T14:03:44.888275Z",
     "start_time": "2019-07-31T14:03:44.872679Z"
    }
   },
   "outputs": [],
   "source": [
    "donnees.columns"
   ]
  },
  {
   "cell_type": "code",
   "execution_count": null,
   "metadata": {
    "ExecuteTime": {
     "end_time": "2019-07-31T14:03:44.935137Z",
     "start_time": "2019-07-31T14:03:44.888275Z"
    }
   },
   "outputs": [],
   "source": [
    "donnees.shape"
   ]
  },
  {
   "cell_type": "code",
   "execution_count": null,
   "metadata": {
    "ExecuteTime": {
     "end_time": "2019-07-31T14:03:44.997624Z",
     "start_time": "2019-07-31T14:03:44.935137Z"
    }
   },
   "outputs": [],
   "source": [
    "donnees.reset_index().head()"
   ]
  },
  {
   "cell_type": "code",
   "execution_count": null,
   "metadata": {
    "ExecuteTime": {
     "end_time": "2019-07-31T14:03:45.028862Z",
     "start_time": "2019-07-31T14:03:44.997624Z"
    }
   },
   "outputs": [],
   "source": [
    "donnees.drop(columns='Cible').head()"
   ]
  },
  {
   "cell_type": "raw",
   "metadata": {
    "ExecuteTime": {
     "end_time": "2019-07-31T12:36:53.004608Z",
     "start_time": "2019-07-31T12:36:52.954870Z"
    }
   },
   "source": [
    "from sklearn.model_selection import train_test_split\n",
    "X_train, X_test, y_train, y_test = train_test_split(\n",
    "    donnees.drop(columns='Cible'), \n",
    "    donnees.Cible, test_size=0.1, \n",
    "    random_state=0, \n",
    "    stratify = donnees.Cible) "
   ]
  },
  {
   "cell_type": "raw",
   "metadata": {
    "ExecuteTime": {
     "end_time": "2019-07-31T12:36:53.053935Z",
     "start_time": "2019-07-31T12:36:53.022643Z"
    }
   },
   "source": [
    "indexTrain = X_train.reset_index().iloc[:,0].values\n",
    "indexTest  = X_test.reset_index().iloc[:,0].values\n",
    "\n",
    "\n",
    "import pickle\n",
    "pickle_file = \"champignons.Index.pickle\"\n",
    "\n",
    "with open(pickle_file, 'wb') as f:\n",
    "    pickle.dump( indexTrain  ,f)\n",
    "    pickle.dump( indexTest   ,f)    "
   ]
  },
  {
   "cell_type": "code",
   "execution_count": null,
   "metadata": {
    "ExecuteTime": {
     "end_time": "2019-07-31T14:03:45.060106Z",
     "start_time": "2019-07-31T14:03:45.028862Z"
    }
   },
   "outputs": [],
   "source": [
    "import pickle\n",
    "pickle_file = \"champignons.Index.pickle\"\n",
    "\n",
    "with open(pickle_file, 'rb') as f:\n",
    "    indexTrain = pickle.load(f)\n",
    "    indexTest  = pickle.load(f)"
   ]
  },
  {
   "cell_type": "code",
   "execution_count": null,
   "metadata": {
    "ExecuteTime": {
     "end_time": "2019-07-31T14:03:45.106969Z",
     "start_time": "2019-07-31T14:03:45.060106Z"
    }
   },
   "outputs": [],
   "source": [
    "X_train, X_test, y_train, y_test = donnees.filter(items=indexTrain,axis=0).drop(columns=['Cible'],axis=1),\\\n",
    "                                   donnees.filter(items=indexTest ,axis=0).drop(columns=['Cible'],axis=1),\\\n",
    "                                   donnees.filter(items=indexTrain,axis=0).Cible,\\\n",
    "                                   donnees.filter(items=indexTest ,axis=0).Cible\n",
    "X_train.shape, X_test.shape"
   ]
  },
  {
   "cell_type": "code",
   "execution_count": null,
   "metadata": {
    "ExecuteTime": {
     "end_time": "2019-07-31T14:03:45.658504Z",
     "start_time": "2019-07-31T14:03:45.106969Z"
    }
   },
   "outputs": [],
   "source": [
    "y_train.hist(bins=7, figsize=(8,8), label='train');\n",
    "y_test.hist(bins=7, figsize=(8,8), label='test');\n",
    "plt.legend();"
   ]
  },
  {
   "cell_type": "code",
   "execution_count": null,
   "metadata": {
    "ExecuteTime": {
     "end_time": "2019-07-31T14:03:51.206494Z",
     "start_time": "2019-07-31T14:03:50.987790Z"
    }
   },
   "outputs": [],
   "source": [
    "import numpy as np\n",
    "import matplotlib.pyplot as plt\n",
    "from matplotlib.colors import ListedColormap\n",
    "from sklearn.model_selection import train_test_split\n",
    "from sklearn.preprocessing import StandardScaler\n",
    "from sklearn.datasets import make_moons, make_circles, make_classification\n",
    "from sklearn.neural_network import MLPClassifier\n",
    "from sklearn.neighbors import KNeighborsClassifier\n",
    "from sklearn.svm import SVC\n",
    "from sklearn.gaussian_process import GaussianProcessClassifier\n",
    "from sklearn.gaussian_process.kernels import RBF\n",
    "from sklearn.tree import DecisionTreeClassifier\n",
    "from sklearn.ensemble import RandomForestClassifier, AdaBoostClassifier\n",
    "from sklearn.naive_bayes import GaussianNB\n",
    "from sklearn.discriminant_analysis import QuadraticDiscriminantAnalysis\n",
    "from sklearn.metrics import roc_curve, auc\n",
    "\n",
    "names = [\"Decision Tree\", \n",
    "         \"Random Forest\",\n",
    "         \"AdaBoost\",\n",
    "         \"Nearest Neighbors\", \n",
    "         \"Linear SVM\", \n",
    "         \"RBF SVM\", #\"Gaussian Process\",\n",
    "         \"Neural Net\", \n",
    "         \"Naive Bayes\", \n",
    "         \"QDA\"]\n",
    "\n",
    "classifiers = [\n",
    "    DecisionTreeClassifier(max_depth=5),\n",
    "    RandomForestClassifier(max_depth=5, \n",
    "                           n_estimators=10000, max_features=4),    \n",
    "    AdaBoostClassifier(n_estimators=10000),    \n",
    "    KNeighborsClassifier(10),\n",
    "    SVC(kernel=\"linear\", C=0.025, probability=True),\n",
    "    SVC(gamma=0.001, C=0.025, probability=True),\n",
    "    #GaussianProcessClassifier(1.0 * RBF(1.0)),\n",
    "    MLPClassifier(alpha=1),\n",
    "    GaussianNB(),\n",
    "    QuadraticDiscriminantAnalysis()]"
   ]
  },
  {
   "cell_type": "code",
   "execution_count": null,
   "metadata": {
    "ExecuteTime": {
     "end_time": "2019-07-31T14:06:12.129594Z",
     "start_time": "2019-07-31T14:03:51.585541Z"
    }
   },
   "outputs": [],
   "source": [
    "np.random.seed(123456)\n",
    "t0 = time.time()  \n",
    "h = .02  # step size in the mesh\n",
    "\n",
    "import seaborn as sns\n",
    "plt.figure(figsize=(18,18))\n",
    "plt.style.use('seaborn-darkgrid')\n",
    "\n",
    "for name, clf in zip(names, classifiers):\n",
    "    t1 = time.time()  \n",
    "    clf.fit(X_train, y_train)\n",
    "    score = clf.score(X_test, y_test)*100\n",
    "    print(f'{name:17s}'+(' %.4f' % score).lstrip('0'),end='\\t--\\t')\n",
    "    probas = clf.predict_proba(X_test)\n",
    "    fpr, tpr, thresholds = roc_curve(y_test.ravel(), probas[:, 1])\n",
    "    roc_auc = auc(fpr, tpr)\n",
    "    print (\"Area under the ROC curve : %0.4f\" % roc_auc,end='\\t--\\t')\n",
    "    plt.plot(fpr, tpr, label=name + '(AUC = %0.4f)' % roc_auc)\n",
    "    plt.plot([0, 1], [0, 1], 'k--')\n",
    "    plt.xlim([-0.05, 1.05])\n",
    "    plt.ylim([-0.05, 1.05])\n",
    "    plt.xlabel('Le taux de faux Positifs(1 - Specificity)',size=18)\n",
    "    plt.ylabel('Le taux de vrais positifs(Sensitivity)',size=18)\n",
    "    plt.title('La courbe ROC (Receiver Operating Caracteristic)',size=20)\n",
    "    plt.legend(loc=\"lower right\")\n",
    "    print('Exécution  :'+('%.2fs' % (time.time() - t1)).lstrip('0'))\n",
    "plt.show()\n",
    "      \n",
    "print('Exécution  :'+('%.2fs' % (time.time() - t0)).lstrip('0'))"
   ]
  },
  {
   "cell_type": "code",
   "execution_count": null,
   "metadata": {},
   "outputs": [],
   "source": []
  },
  {
   "cell_type": "code",
   "execution_count": null,
   "metadata": {},
   "outputs": [],
   "source": []
  },
  {
   "cell_type": "code",
   "execution_count": null,
   "metadata": {},
   "outputs": [],
   "source": []
  },
  {
   "cell_type": "code",
   "execution_count": null,
   "metadata": {
    "ExecuteTime": {
     "end_time": "2019-07-31T14:06:13.181657Z",
     "start_time": "2019-07-31T14:06:12.129594Z"
    }
   },
   "outputs": [],
   "source": [
    "donnees01 = cp.deepcopy(donneesSav )\n",
    "for col in donnees01.drop(columns='Cible').columns:\n",
    "    createColumnsQualitatives(donnees01,col)\n",
    "    \n",
    "donnees01.Cible = donnees01.Cible.map(lambda x : 1 if x == 'p' else 0)"
   ]
  },
  {
   "cell_type": "code",
   "execution_count": null,
   "metadata": {
    "ExecuteTime": {
     "end_time": "2019-07-31T14:06:13.228523Z",
     "start_time": "2019-07-31T14:06:13.181657Z"
    }
   },
   "outputs": [],
   "source": [
    "donnees01.head()"
   ]
  },
  {
   "cell_type": "code",
   "execution_count": null,
   "metadata": {
    "ExecuteTime": {
     "end_time": "2019-07-31T14:06:13.322251Z",
     "start_time": "2019-07-31T14:06:13.228523Z"
    }
   },
   "outputs": [],
   "source": [
    "X_train, X_test, y_train, y_test = donnees01.filter(items=indexTrain,axis=0).drop(columns=['Cible'],axis=1),\\\n",
    "                                   donnees01.filter(items=indexTest ,axis=0).drop(columns=['Cible'],axis=1),\\\n",
    "                                   donnees01.filter(items=indexTrain,axis=0).Cible,\\\n",
    "                                   donnees01.filter(items=indexTest ,axis=0).Cible\n",
    "X_train.shape, X_test.shape, y_train.shape, y_test.shape"
   ]
  },
  {
   "cell_type": "code",
   "execution_count": null,
   "metadata": {
    "ExecuteTime": {
     "end_time": "2019-07-31T14:06:13.916404Z",
     "start_time": "2019-07-31T14:06:13.322251Z"
    }
   },
   "outputs": [],
   "source": [
    "y_train.hist(bins=7, figsize=(8,8), label='train');\n",
    "y_test.hist(bins=7, figsize=(8,8), label='test');\n",
    "plt.legend();"
   ]
  },
  {
   "cell_type": "code",
   "execution_count": null,
   "metadata": {
    "ExecuteTime": {
     "end_time": "2019-07-31T14:11:50.345344Z",
     "start_time": "2019-07-31T14:06:13.916404Z"
    }
   },
   "outputs": [],
   "source": [
    "np.random.seed(123456)\n",
    "t0 = time.time()  \n",
    "h = .02  # step size in the mesh\n",
    "\n",
    "import seaborn as sns\n",
    "plt.figure(figsize=(18,18))\n",
    "plt.style.use('seaborn-darkgrid')\n",
    "\n",
    "for name, clf in zip(names, classifiers):\n",
    "    t1 = time.time()  \n",
    "    clf.fit(X_train, y_train)\n",
    "    score = clf.score(X_test, y_test)*100\n",
    "    print(f'{name:17s}'+(' %.4f' % score).lstrip('0'),end='\\t--\\t')\n",
    "    probas = clf.predict_proba(X_test)\n",
    "    fpr, tpr, thresholds = roc_curve(y_test.ravel(), probas[:, 1])\n",
    "    roc_auc = auc(fpr, tpr)\n",
    "    print (\"Area under the ROC curve : %0.4f\" % roc_auc,end='\\t--\\t')\n",
    "    plt.plot(fpr, tpr, label=name + '(AUC = %0.4f)' % roc_auc)\n",
    "    plt.plot([0, 1], [0, 1], 'k--')\n",
    "    plt.xlim([-0.05, 1.05])\n",
    "    plt.ylim([-0.05, 1.05])\n",
    "    plt.xlabel('Le taux de faux Positifs(1 - Specificity)',size=18)\n",
    "    plt.ylabel('Le taux de vrais positifs(Sensitivity)',size=18)\n",
    "    plt.title('La courbe ROC (Receiver Operating Caracteristic)',size=20)\n",
    "    plt.legend(loc=\"lower right\")\n",
    "    print('Exécution  :'+('%.2fs' % (time.time() - t1)).lstrip('0'))\n",
    "plt.show()\n",
    "      \n",
    "print('Exécution  :'+('%.2fs' % (time.time() - t0)).lstrip('0'))"
   ]
  },
  {
   "cell_type": "code",
   "execution_count": null,
   "metadata": {},
   "outputs": [],
   "source": []
  }
 ],
 "metadata": {
  "kernelspec": {
   "display_name": "Python 3 (ipykernel)",
   "language": "python",
   "name": "python3"
  },
  "language_info": {
   "codemirror_mode": {
    "name": "ipython",
    "version": 3
   },
   "file_extension": ".py",
   "mimetype": "text/x-python",
   "name": "python",
   "nbconvert_exporter": "python",
   "pygments_lexer": "ipython3",
   "version": "3.8.13"
  },
  "toc": {
   "base_numbering": 1,
   "nav_menu": {},
   "number_sections": true,
   "sideBar": true,
   "skip_h1_title": false,
   "title_cell": "Table of Contents",
   "title_sidebar": "Contents",
   "toc_cell": true,
   "toc_position": {},
   "toc_section_display": true,
   "toc_window_display": false
  }
 },
 "nbformat": 4,
 "nbformat_minor": 2
}
