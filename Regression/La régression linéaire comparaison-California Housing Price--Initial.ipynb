{
 "cells": [
  {
   "cell_type": "markdown",
   "metadata": {
    "toc": true
   },
   "source": [
    "<h1>Table of Contents<span class=\"tocSkip\"></span></h1>\n",
    "<div class=\"toc\"><ul class=\"toc-item\"><li><span><a href=\"#Transformation-des-variables-qualitatives\" data-toc-modified-id=\"Transformation-des-variables-qualitatives-1\"><span class=\"toc-item-num\">1&nbsp;&nbsp;</span>Transformation des variables qualitatives</a></span></li><li><span><a href=\"#Les-outils\" data-toc-modified-id=\"Les-outils-2\"><span class=\"toc-item-num\">2&nbsp;&nbsp;</span>Les outils</a></span><ul class=\"toc-item\"><li><span><a href=\"#Les-Régressions\" data-toc-modified-id=\"Les-Régressions-2.1\"><span class=\"toc-item-num\">2.1&nbsp;&nbsp;</span>Les Régressions</a></span></li></ul></li></ul></div>"
   ]
  },
  {
   "cell_type": "code",
   "execution_count": 1,
   "metadata": {
    "ExecuteTime": {
     "end_time": "2022-11-09T15:16:00.943391Z",
     "start_time": "2022-11-09T15:15:58.838185Z"
    }
   },
   "outputs": [
    {
     "name": "stdout",
     "output_type": "stream",
     "text": [
      "%pylab is deprecated, use %matplotlib inline and import the required libraries.\n",
      "Populating the interactive namespace from numpy and matplotlib\n"
     ]
    }
   ],
   "source": [
    "import time, warnings\n",
    "import os\n",
    "os.chdir(r\"F:\\Formation\\donnees\")\n",
    "\n",
    "import pandas as pd\n",
    "import seaborn as sns\n",
    "\n",
    "%pylab inline\n",
    "\n",
    "warnings.filterwarnings(action=\"ignore\")\n",
    "plt.style.use('seaborn-poster')\n",
    "sns.set(font_scale=3)\n",
    "np.random.seed(123456789)"
   ]
  },
  {
   "cell_type": "markdown",
   "metadata": {},
   "source": [
    "# Transformation des variables qualitatives"
   ]
  },
  {
   "cell_type": "code",
   "execution_count": 2,
   "metadata": {
    "ExecuteTime": {
     "end_time": "2022-11-09T15:16:00.959232Z",
     "start_time": "2022-11-09T15:16:00.943391Z"
    }
   },
   "outputs": [],
   "source": [
    "def createColumnsQualitatives(donnees,col):\n",
    "    var = donnees[col].unique()\n",
    "    var.sort()\n",
    "    for i in donnees[col].unique():\n",
    "        nom = col+'_'+str(i)\n",
    "        donnees[nom] = donnees[col].apply(lambda x : 1 if x==i else 0)\n",
    "    donnees.drop(labels=col, axis=1, inplace=True)"
   ]
  },
  {
   "cell_type": "markdown",
   "metadata": {},
   "source": [
    "# Les outils"
   ]
  },
  {
   "cell_type": "code",
   "execution_count": 3,
   "metadata": {
    "ExecuteTime": {
     "end_time": "2022-11-09T15:16:01.159717Z",
     "start_time": "2022-11-09T15:16:00.959232Z"
    }
   },
   "outputs": [],
   "source": [
    "from sklearn.metrics import mean_absolute_error,median_absolute_error,mean_squared_error,mean_squared_log_error,r2_score"
   ]
  },
  {
   "cell_type": "code",
   "execution_count": 4,
   "metadata": {
    "ExecuteTime": {
     "end_time": "2022-11-09T15:16:01.190739Z",
     "start_time": "2022-11-09T15:16:01.159717Z"
    }
   },
   "outputs": [],
   "source": [
    "def getMetrics(val_reels, val_predites):\n",
    "    correlations = pd.DataFrame(list(zip(val_predites,val_reels)), columns=['predictions','valeurs'])\n",
    "    return sqrt(mean_squared_error(val_reels, val_predites)),sqrt(abs(r2_score(val_reels, val_predites))),correlations.astype(float).corr().valeurs[0]   "
   ]
  },
  {
   "cell_type": "code",
   "execution_count": 5,
   "metadata": {
    "ExecuteTime": {
     "end_time": "2022-11-09T15:16:01.244165Z",
     "start_time": "2022-11-09T15:16:01.197257Z"
    }
   },
   "outputs": [],
   "source": [
    "def affichageMetricsAvecLog(val_reels, val_predites):\n",
    "    print(\"Mean absolute error                 MAE   : %.6f\" % mean_absolute_error(val_reels, val_predites))\n",
    "    print(\"Median absolute error               MedAE : %.6f\" % median_absolute_error(val_reels, val_predites))\n",
    "    print(\"Mean squared error                  MSE   : %.6f\" % mean_squared_error(val_reels, val_predites))\n",
    "    print(\"Mean squared logarithmic error      MSLE  : %.6f\" % mean_squared_log_error(val_reels, val_predites))\n",
    "    print(\"Root mean squared error             RMSE  : %.6f\" % sqrt(mean_squared_error(val_reels, val_predites)))\n",
    "    print(\"Root mean squared logarithmic error RMSLE : %.6f\" % sqrt(mean_squared_log_error(val_reels, val_predites)))\n",
    "    print(\"R² score  raw_values                R²    : %.6f\" % r2_score(val_reels, val_predites, multioutput='raw_values'))\n",
    "    print(\"R² score  uniform_average           R²    : %.6f\" % r2_score(val_reels, val_predites, multioutput='uniform_average'))\n",
    "    print(\"R² score  variance_weighted         R²    : %.6f\" % r2_score(val_reels, val_predites, multioutput='variance_weighted'))\n",
    "    print(\"R  score  raw_values                R     : %.6f\" % sqrt(abs(r2_score(val_reels, val_predites, multioutput='raw_values'))))\n",
    "    print(\"R  score  uniform_average           R     : %.6f\" % sqrt(abs(r2_score(val_reels, val_predites, multioutput='uniform_average'))))\n",
    "    print(\"R  score  variance_weighted         R     : %.6f\" % sqrt(abs(r2_score(val_reels, val_predites, multioutput='variance_weighted'))))\n",
    "    correlations = pd.DataFrame(list(zip(val_predites,val_reels)), columns=['predictions','valeurs'])\n",
    "    sns.set(font_scale=3)\n",
    "    plt.figure(figsize=(26,26))\n",
    "    plt.title('Correlation Pearson des variables', y=1.05, size=38)\n",
    "    sns.heatmap(correlations.astype(float).corr(),linewidths=0.3,vmax=1.0,fmt =\"1.9f\", \n",
    "                square=True, cmap='coolwarm', linecolor='white', annot=True)\n",
    "    plt.show()    \n",
    "    plt.figure(figsize=(26,26))\n",
    "    plt.scatter(correlations.valeurs,correlations.predictions, alpha=0.4, s=200, c='black', edgecolors='white')\n",
    "    plt.scatter(correlations.valeurs,correlations.predictions, alpha=0.3, \n",
    "                s=200+abs(correlations.valeurs - correlations.predictions)*100, c='red', edgecolors='black')\n",
    "    plt.plot((correlations.valeurs.min(), correlations.valeurs.max()), \n",
    "             (correlations.valeurs.min(), correlations.valeurs.max()), c='black', ls=\"--\", alpha=0.6) \n",
    "    plt.xlabel('valeurs')\n",
    "    plt.ylabel('predictions')\n",
    "    plt.show()    \n",
    "    \n",
    "    sns.jointplot(x='valeurs',y='predictions',data=correlations, kind='reg', size=25)"
   ]
  },
  {
   "cell_type": "code",
   "execution_count": 6,
   "metadata": {
    "ExecuteTime": {
     "end_time": "2022-11-09T15:16:01.275633Z",
     "start_time": "2022-11-09T15:16:01.244165Z"
    }
   },
   "outputs": [],
   "source": [
    "def affichageMetricsSansLog(val_reels, val_predites):\n",
    "    print(\"Mean absolute error                 MAE   : %.6f\" % mean_absolute_error(val_reels, val_predites))\n",
    "    print(\"Median absolute error               MedAE : %.6f\" % median_absolute_error(val_reels, val_predites))\n",
    "    print(\"Mean squared error                  MSE   : %.6f\" % mean_squared_error(val_reels, val_predites))\n",
    "    #print(\"Mean squared logarithmic error      MSLE  : %.6f\" % mean_squared_log_error(val_reels, val_predites))\n",
    "    print(\"Root mean squared error             RMSE  : %.6f\" % sqrt(mean_squared_error(val_reels, val_predites)))\n",
    "    #print(\"Root mean squared logarithmic error RMSLE : %.6f\" % sqrt(mean_squared_log_error(val_reels, val_predites)))\n",
    "    print(\"R² score  raw_values                R²    : %.6f\" % r2_score(val_reels, val_predites, multioutput='raw_values'))\n",
    "    print(\"R² score  uniform_average           R²    : %.6f\" % r2_score(val_reels, val_predites, multioutput='uniform_average'))\n",
    "    print(\"R² score  variance_weighted         R²    : %.6f\" % r2_score(val_reels, val_predites, multioutput='variance_weighted'))\n",
    "    print(\"R  score  raw_values                R     : %.6f\" % sqrt(abs(r2_score(val_reels, val_predites, multioutput='raw_values'))))\n",
    "    print(\"R  score  uniform_average           R     : %.6f\" % sqrt(abs(r2_score(val_reels, val_predites, multioutput='uniform_average'))))\n",
    "    print(\"R  score  variance_weighted         R     : %.6f\" % sqrt(abs(r2_score(val_reels, val_predites, multioutput='variance_weighted'))))\n",
    "    correlations = pd.DataFrame(list(zip(val_predites,val_reels)), columns=['predictions','valeurs'])\n",
    "    sns.set(font_scale=3)\n",
    "    plt.figure(figsize=(26,26))\n",
    "    plt.title('Correlation Pearson des variables', y=1.05, size=38)\n",
    "    sns.heatmap(correlations.astype(float).corr(),linewidths=0.3,vmax=1.0,fmt =\"1.9f\", \n",
    "                square=True, cmap='coolwarm', linecolor='white', annot=True)\n",
    "    plt.show()    \n",
    "    #plt.figure(figsize=(26,26))\n",
    "    #plt.scatter(correlations.valeurs,correlations.predictions, alpha=0.4, s=200, c='black', edgecolors='white')\n",
    "    #plt.scatter(correlations.valeurs,correlations.predictions, alpha=0.3, \n",
    "    #            s=200+abs(correlations.valeurs - correlations.predictions)*100, c='red', edgecolors='black')\n",
    "    #plt.plot((correlations.valeurs.min(), correlations.valeurs.max()), \n",
    "    #         (correlations.valeurs.min(), correlations.valeurs.max()), c='black', ls=\"--\", alpha=0.6) \n",
    "    #plt.xlabel('valeurs')\n",
    "    #plt.ylabel('predictions')\n",
    "    #plt.show()   \n",
    "    \n",
    "    sns.jointplot(x='valeurs',y='predictions',\n",
    "                  data=correlations.iloc[::10,:], kind='reg', size=25)"
   ]
  },
  {
   "cell_type": "code",
   "execution_count": 7,
   "metadata": {
    "ExecuteTime": {
     "end_time": "2022-11-09T15:16:01.313131Z",
     "start_time": "2022-11-09T15:16:01.275633Z"
    }
   },
   "outputs": [],
   "source": [
    "from sklearn.metrics import mean_squared_error\n",
    "from sklearn.model_selection import train_test_split\n",
    "\n",
    "def plot_learning_curves(model, X, y):\n",
    "    X_train, X_val, y_train, y_val = train_test_split(X, y, test_size=0.2, random_state=10)\n",
    "    train_errors, val_errors = [], []\n",
    "    for m in range(1, len(X_train)):\n",
    "        model.fit(X_train[:m], y_train[:m])\n",
    "        y_train_predict = model.predict(X_train[:m])\n",
    "        y_val_predict = model.predict(X_val)\n",
    "        train_errors.append(mean_squared_error(y_train_predict, y_train[:m]))\n",
    "        val_errors.append(mean_squared_error(y_val_predict, y_val))\n",
    "\n",
    "    plt.figure(figsize=(26,26))    \n",
    "    plt.plot(np.sqrt(train_errors), \"r-+\", linewidth=2, label=\"train\")\n",
    "    plt.plot(np.sqrt(val_errors), \"b-\", linewidth=3, label=\"val\")\n",
    "    plt.legend(loc=\"upper right\", fontsize=14)   \n",
    "    plt.xlabel(\"Training set size\", fontsize=14) \n",
    "    plt.ylabel(\"RMSE\", fontsize=14)     "
   ]
  },
  {
   "cell_type": "code",
   "execution_count": 8,
   "metadata": {
    "ExecuteTime": {
     "end_time": "2022-11-09T15:16:01.328754Z",
     "start_time": "2022-11-09T15:16:01.313131Z"
    }
   },
   "outputs": [],
   "source": [
    "def afficheDistributions(donnees):\n",
    "    for i in donnees.columns:\n",
    "        plt.title('distribution %s' % i)\n",
    "        donnees[i].hist(figsize=(16,14),bins=50, color='navy',edgecolor='white')\n",
    "        plt.show()    "
   ]
  },
  {
   "cell_type": "markdown",
   "metadata": {},
   "source": [
    "## Les Régressions"
   ]
  },
  {
   "cell_type": "code",
   "execution_count": 9,
   "metadata": {
    "ExecuteTime": {
     "end_time": "2022-11-09T15:16:01.475679Z",
     "start_time": "2022-11-09T15:16:01.328754Z"
    }
   },
   "outputs": [],
   "source": [
    "from sklearn.preprocessing import PolynomialFeatures\n",
    "from sklearn.pipeline import make_pipeline\n",
    "from sklearn.linear_model import LinearRegression,Ridge,BayesianRidge\n",
    "from sklearn.linear_model import RANSACRegressor,ARDRegression,OrthogonalMatchingPursuit\n",
    "from sklearn.linear_model import SGDRegressor,TheilSenRegressor,HuberRegressor\n",
    "from sklearn.ensemble import RandomForestRegressor,GradientBoostingRegressor\n",
    "from sklearn.svm import LinearSVR,SVR\n",
    "from sklearn.neural_network import MLPRegressor\n",
    "\n",
    "def calculRegressions(X_train, X_test, y_train, y_test):\n",
    "    rmse,r,p = dict(),dict(),dict()\n",
    "    \n",
    "    yRegressions = pd.DataFrame()\n",
    "    yRegressions['Observations']=y_test\n",
    "\n",
    "    noms = [\"LinearRegression\",\n",
    "            \"PolynomialRegression2\",\n",
    "            #\"PolynomialRegression3\",\n",
    "            #\"PolynomialRegression4\",\n",
    "            \"BayesianRidge\",\n",
    "            \"MLPRegressor\",\n",
    "            \"SVR_linear\",\n",
    "            \"SVR_rbf\",\n",
    "            #\"SVR_poly2\",# \"SVR_poly3\",\"SVR_poly4\",\n",
    "            #\"SVR_sigmoid\",\n",
    "            \"RandomForestRegressor\",\n",
    "            \"GradientBoostingRegressor\"]\n",
    "\n",
    "    regresseurs = [\n",
    "        LinearRegression(),\n",
    "        make_pipeline(PolynomialFeatures(2), Ridge()),\n",
    "        BayesianRidge(alpha_1=1.0e-7),\n",
    "        MLPRegressor(alpha=0.0001, hidden_layer_sizes = (100,), \n",
    "                     max_iter = 5000, \n",
    "                     activation = 'logistic',\n",
    "                     learning_rate = 'adaptive'),\n",
    "        SVR(kernel='linear', C=0.001),\n",
    "        SVR(kernel='rbf', C=1e3, gamma=0.0001),\n",
    "        RandomForestRegressor(max_depth=4, n_estimators=500),\n",
    "        GradientBoostingRegressor(loss='quantile', alpha=0.95,\n",
    "                                    n_estimators=500, max_depth=3,\n",
    "                                    learning_rate=.1, min_samples_leaf=9,\n",
    "                                    min_samples_split=9)   ]\n",
    "\n",
    "    for nom, reg in zip(noms, regresseurs):\n",
    "        t1 = time.time()  \n",
    "        yRegressions[nom] = reg.fit(X_train, y_train).predict(X_test)\n",
    "        rmse[nom],r[nom],p[nom] = getMetrics(y_test, yRegressions[nom])\n",
    "        print('Exécution  '+nom.ljust(30)+(': %.2fs' % (time.time() - t1)).lstrip('0')+('  p = %.12f' % p[nom]).lstrip('0'))\n",
    "\n",
    "    resultats = pd.DataFrame(pd.Series(rmse),columns=[\"RMSE\"])\n",
    "    resultats[\"R\"] = pd.Series(r)\n",
    "    resultats[\"Pearson\"] = pd.Series(p)\n",
    "    resultats.sort_values(by='Pearson',ascending=False, inplace=True)\n",
    "    return resultats,yRegressions"
   ]
  },
  {
   "cell_type": "code",
   "execution_count": 10,
   "metadata": {
    "ExecuteTime": {
     "end_time": "2022-11-09T15:16:01.529027Z",
     "start_time": "2022-11-09T15:16:01.475679Z"
    }
   },
   "outputs": [],
   "source": [
    "donnees = pd.read_csv('California Housing Price.csv')"
   ]
  },
  {
   "cell_type": "code",
   "execution_count": 11,
   "metadata": {
    "ExecuteTime": {
     "end_time": "2022-11-09T15:16:01.544648Z",
     "start_time": "2022-11-09T15:16:01.529027Z"
    }
   },
   "outputs": [],
   "source": [
    "#createColumnsQualitatives(donnees,'ocean_proximity')"
   ]
  },
  {
   "cell_type": "code",
   "execution_count": 12,
   "metadata": {
    "ExecuteTime": {
     "end_time": "2022-11-09T15:16:01.591556Z",
     "start_time": "2022-11-09T15:16:01.544648Z"
    }
   },
   "outputs": [
    {
     "data": {
      "text/html": [
       "<div>\n",
       "<style scoped>\n",
       "    .dataframe tbody tr th:only-of-type {\n",
       "        vertical-align: middle;\n",
       "    }\n",
       "\n",
       "    .dataframe tbody tr th {\n",
       "        vertical-align: top;\n",
       "    }\n",
       "\n",
       "    .dataframe thead th {\n",
       "        text-align: right;\n",
       "    }\n",
       "</style>\n",
       "<table border=\"1\" class=\"dataframe\">\n",
       "  <thead>\n",
       "    <tr style=\"text-align: right;\">\n",
       "      <th></th>\n",
       "      <th>longitude</th>\n",
       "      <th>latitude</th>\n",
       "      <th>housing_median_age</th>\n",
       "      <th>total_rooms</th>\n",
       "      <th>total_bedrooms</th>\n",
       "      <th>population</th>\n",
       "      <th>households</th>\n",
       "      <th>median_income</th>\n",
       "      <th>median_house_value</th>\n",
       "      <th>ocean_proximity</th>\n",
       "    </tr>\n",
       "  </thead>\n",
       "  <tbody>\n",
       "    <tr>\n",
       "      <th>0</th>\n",
       "      <td>-122.23</td>\n",
       "      <td>37.88</td>\n",
       "      <td>41.0</td>\n",
       "      <td>880.0</td>\n",
       "      <td>129.0</td>\n",
       "      <td>322.0</td>\n",
       "      <td>126.0</td>\n",
       "      <td>8.3252</td>\n",
       "      <td>452600.0</td>\n",
       "      <td>NEAR BAY</td>\n",
       "    </tr>\n",
       "    <tr>\n",
       "      <th>1</th>\n",
       "      <td>-122.22</td>\n",
       "      <td>37.86</td>\n",
       "      <td>21.0</td>\n",
       "      <td>7099.0</td>\n",
       "      <td>1106.0</td>\n",
       "      <td>2401.0</td>\n",
       "      <td>1138.0</td>\n",
       "      <td>8.3014</td>\n",
       "      <td>358500.0</td>\n",
       "      <td>NEAR BAY</td>\n",
       "    </tr>\n",
       "    <tr>\n",
       "      <th>2</th>\n",
       "      <td>-122.24</td>\n",
       "      <td>37.85</td>\n",
       "      <td>52.0</td>\n",
       "      <td>1467.0</td>\n",
       "      <td>190.0</td>\n",
       "      <td>496.0</td>\n",
       "      <td>177.0</td>\n",
       "      <td>7.2574</td>\n",
       "      <td>352100.0</td>\n",
       "      <td>NEAR BAY</td>\n",
       "    </tr>\n",
       "    <tr>\n",
       "      <th>3</th>\n",
       "      <td>-122.25</td>\n",
       "      <td>37.85</td>\n",
       "      <td>52.0</td>\n",
       "      <td>1274.0</td>\n",
       "      <td>235.0</td>\n",
       "      <td>558.0</td>\n",
       "      <td>219.0</td>\n",
       "      <td>5.6431</td>\n",
       "      <td>341300.0</td>\n",
       "      <td>NEAR BAY</td>\n",
       "    </tr>\n",
       "    <tr>\n",
       "      <th>4</th>\n",
       "      <td>-122.25</td>\n",
       "      <td>37.85</td>\n",
       "      <td>52.0</td>\n",
       "      <td>1627.0</td>\n",
       "      <td>280.0</td>\n",
       "      <td>565.0</td>\n",
       "      <td>259.0</td>\n",
       "      <td>3.8462</td>\n",
       "      <td>342200.0</td>\n",
       "      <td>NEAR BAY</td>\n",
       "    </tr>\n",
       "  </tbody>\n",
       "</table>\n",
       "</div>"
      ],
      "text/plain": [
       "   longitude  latitude  housing_median_age  total_rooms  total_bedrooms  \\\n",
       "0    -122.23     37.88                41.0        880.0           129.0   \n",
       "1    -122.22     37.86                21.0       7099.0          1106.0   \n",
       "2    -122.24     37.85                52.0       1467.0           190.0   \n",
       "3    -122.25     37.85                52.0       1274.0           235.0   \n",
       "4    -122.25     37.85                52.0       1627.0           280.0   \n",
       "\n",
       "   population  households  median_income  median_house_value ocean_proximity  \n",
       "0       322.0       126.0         8.3252            452600.0        NEAR BAY  \n",
       "1      2401.0      1138.0         8.3014            358500.0        NEAR BAY  \n",
       "2       496.0       177.0         7.2574            352100.0        NEAR BAY  \n",
       "3       558.0       219.0         5.6431            341300.0        NEAR BAY  \n",
       "4       565.0       259.0         3.8462            342200.0        NEAR BAY  "
      ]
     },
     "execution_count": 12,
     "metadata": {},
     "output_type": "execute_result"
    }
   ],
   "source": [
    "donnees.head()"
   ]
  },
  {
   "cell_type": "code",
   "execution_count": 13,
   "metadata": {
    "ExecuteTime": {
     "end_time": "2022-11-09T15:16:01.613693Z",
     "start_time": "2022-11-09T15:16:01.591556Z"
    }
   },
   "outputs": [
    {
     "data": {
      "text/plain": [
       "(20640, 10)"
      ]
     },
     "execution_count": 13,
     "metadata": {},
     "output_type": "execute_result"
    }
   ],
   "source": [
    "donnees.shape"
   ]
  },
  {
   "cell_type": "code",
   "execution_count": 14,
   "metadata": {
    "ExecuteTime": {
     "end_time": "2022-11-09T15:16:01.629316Z",
     "start_time": "2022-11-09T15:16:01.613693Z"
    }
   },
   "outputs": [],
   "source": [
    "def fVarQ ( col ):\n",
    "    dicoOP = { nom:i for i,nom in enumerate(col.unique())}\n",
    "    dicoOPInv = { i:nom for i,nom in enumerate(col.unique())}\n",
    "    col.apply(lambda x : dicoOP[x]),dicoOP,dicoOPInv"
   ]
  },
  {
   "cell_type": "code",
   "execution_count": 15,
   "metadata": {
    "ExecuteTime": {
     "end_time": "2022-11-09T15:16:01.660556Z",
     "start_time": "2022-11-09T15:16:01.629316Z"
    }
   },
   "outputs": [],
   "source": [
    "dicoOP = { nom:i for i,nom in enumerate(donnees.ocean_proximity.unique())}\n",
    "dicoOPInv = { i:nom for i,nom in enumerate(donnees.ocean_proximity.unique())}"
   ]
  },
  {
   "cell_type": "code",
   "execution_count": 16,
   "metadata": {
    "ExecuteTime": {
     "end_time": "2022-11-09T15:16:01.691800Z",
     "start_time": "2022-11-09T15:16:01.660556Z"
    }
   },
   "outputs": [],
   "source": [
    "donnees.ocean_proximity = donnees.ocean_proximity.apply(lambda x : dicoOP[x])"
   ]
  },
  {
   "cell_type": "code",
   "execution_count": 17,
   "metadata": {
    "ExecuteTime": {
     "end_time": "2022-11-09T15:16:01.713390Z",
     "start_time": "2022-11-09T15:16:01.691800Z"
    }
   },
   "outputs": [
    {
     "data": {
      "text/plain": [
       "{0: 'NEAR BAY', 1: '<1H OCEAN', 2: 'INLAND', 3: 'NEAR OCEAN', 4: 'ISLAND'}"
      ]
     },
     "execution_count": 17,
     "metadata": {},
     "output_type": "execute_result"
    }
   ],
   "source": [
    "dicoOPInv"
   ]
  },
  {
   "cell_type": "code",
   "execution_count": 18,
   "metadata": {
    "ExecuteTime": {
     "end_time": "2022-11-09T15:16:01.749703Z",
     "start_time": "2022-11-09T15:16:01.716430Z"
    }
   },
   "outputs": [
    {
     "data": {
      "text/html": [
       "<div>\n",
       "<style scoped>\n",
       "    .dataframe tbody tr th:only-of-type {\n",
       "        vertical-align: middle;\n",
       "    }\n",
       "\n",
       "    .dataframe tbody tr th {\n",
       "        vertical-align: top;\n",
       "    }\n",
       "\n",
       "    .dataframe thead th {\n",
       "        text-align: right;\n",
       "    }\n",
       "</style>\n",
       "<table border=\"1\" class=\"dataframe\">\n",
       "  <thead>\n",
       "    <tr style=\"text-align: right;\">\n",
       "      <th></th>\n",
       "      <th>longitude</th>\n",
       "      <th>latitude</th>\n",
       "      <th>housing_median_age</th>\n",
       "      <th>total_rooms</th>\n",
       "      <th>total_bedrooms</th>\n",
       "      <th>population</th>\n",
       "      <th>households</th>\n",
       "      <th>median_income</th>\n",
       "      <th>median_house_value</th>\n",
       "      <th>ocean_proximity</th>\n",
       "    </tr>\n",
       "  </thead>\n",
       "  <tbody>\n",
       "    <tr>\n",
       "      <th>0</th>\n",
       "      <td>-122.23</td>\n",
       "      <td>37.88</td>\n",
       "      <td>41.0</td>\n",
       "      <td>880.0</td>\n",
       "      <td>129.0</td>\n",
       "      <td>322.0</td>\n",
       "      <td>126.0</td>\n",
       "      <td>8.3252</td>\n",
       "      <td>452600.0</td>\n",
       "      <td>0</td>\n",
       "    </tr>\n",
       "    <tr>\n",
       "      <th>1</th>\n",
       "      <td>-122.22</td>\n",
       "      <td>37.86</td>\n",
       "      <td>21.0</td>\n",
       "      <td>7099.0</td>\n",
       "      <td>1106.0</td>\n",
       "      <td>2401.0</td>\n",
       "      <td>1138.0</td>\n",
       "      <td>8.3014</td>\n",
       "      <td>358500.0</td>\n",
       "      <td>0</td>\n",
       "    </tr>\n",
       "    <tr>\n",
       "      <th>2</th>\n",
       "      <td>-122.24</td>\n",
       "      <td>37.85</td>\n",
       "      <td>52.0</td>\n",
       "      <td>1467.0</td>\n",
       "      <td>190.0</td>\n",
       "      <td>496.0</td>\n",
       "      <td>177.0</td>\n",
       "      <td>7.2574</td>\n",
       "      <td>352100.0</td>\n",
       "      <td>0</td>\n",
       "    </tr>\n",
       "    <tr>\n",
       "      <th>3</th>\n",
       "      <td>-122.25</td>\n",
       "      <td>37.85</td>\n",
       "      <td>52.0</td>\n",
       "      <td>1274.0</td>\n",
       "      <td>235.0</td>\n",
       "      <td>558.0</td>\n",
       "      <td>219.0</td>\n",
       "      <td>5.6431</td>\n",
       "      <td>341300.0</td>\n",
       "      <td>0</td>\n",
       "    </tr>\n",
       "    <tr>\n",
       "      <th>4</th>\n",
       "      <td>-122.25</td>\n",
       "      <td>37.85</td>\n",
       "      <td>52.0</td>\n",
       "      <td>1627.0</td>\n",
       "      <td>280.0</td>\n",
       "      <td>565.0</td>\n",
       "      <td>259.0</td>\n",
       "      <td>3.8462</td>\n",
       "      <td>342200.0</td>\n",
       "      <td>0</td>\n",
       "    </tr>\n",
       "  </tbody>\n",
       "</table>\n",
       "</div>"
      ],
      "text/plain": [
       "   longitude  latitude  housing_median_age  total_rooms  total_bedrooms  \\\n",
       "0    -122.23     37.88                41.0        880.0           129.0   \n",
       "1    -122.22     37.86                21.0       7099.0          1106.0   \n",
       "2    -122.24     37.85                52.0       1467.0           190.0   \n",
       "3    -122.25     37.85                52.0       1274.0           235.0   \n",
       "4    -122.25     37.85                52.0       1627.0           280.0   \n",
       "\n",
       "   population  households  median_income  median_house_value  ocean_proximity  \n",
       "0       322.0       126.0         8.3252            452600.0                0  \n",
       "1      2401.0      1138.0         8.3014            358500.0                0  \n",
       "2       496.0       177.0         7.2574            352100.0                0  \n",
       "3       558.0       219.0         5.6431            341300.0                0  \n",
       "4       565.0       259.0         3.8462            342200.0                0  "
      ]
     },
     "execution_count": 18,
     "metadata": {},
     "output_type": "execute_result"
    }
   ],
   "source": [
    "donnees.head()"
   ]
  },
  {
   "cell_type": "code",
   "execution_count": 19,
   "metadata": {
    "ExecuteTime": {
     "end_time": "2022-11-09T15:16:01.765316Z",
     "start_time": "2022-11-09T15:16:01.749703Z"
    }
   },
   "outputs": [
    {
     "data": {
      "text/plain": [
       "longitude               0\n",
       "latitude                0\n",
       "housing_median_age      0\n",
       "total_rooms             0\n",
       "total_bedrooms        207\n",
       "population              0\n",
       "households              0\n",
       "median_income           0\n",
       "median_house_value      0\n",
       "ocean_proximity         0\n",
       "dtype: int64"
      ]
     },
     "execution_count": 19,
     "metadata": {},
     "output_type": "execute_result"
    }
   ],
   "source": [
    "donnees.isna().sum()"
   ]
  },
  {
   "cell_type": "code",
   "execution_count": 20,
   "metadata": {
    "ExecuteTime": {
     "end_time": "2022-11-09T15:16:01.796563Z",
     "start_time": "2022-11-09T15:16:01.765316Z"
    }
   },
   "outputs": [
    {
     "data": {
      "text/plain": [
       "count    20433.000000\n",
       "mean       537.870553\n",
       "std        421.385070\n",
       "min          1.000000\n",
       "25%        296.000000\n",
       "50%        435.000000\n",
       "75%        647.000000\n",
       "max       6445.000000\n",
       "Name: total_bedrooms, dtype: float64"
      ]
     },
     "execution_count": 20,
     "metadata": {},
     "output_type": "execute_result"
    }
   ],
   "source": [
    "donnees.total_bedrooms.describe()"
   ]
  },
  {
   "cell_type": "code",
   "execution_count": 21,
   "metadata": {
    "ExecuteTime": {
     "end_time": "2022-11-09T15:16:02.657435Z",
     "start_time": "2022-11-09T15:16:01.798587Z"
    }
   },
   "outputs": [
    {
     "data": {
      "image/png": "[encoded data removed]",
      "text/plain": [
       "<Figure size 1200x1200 with 1 Axes>"
      ]
     },
     "metadata": {},
     "output_type": "display_data"
    }
   ],
   "source": [
    "plt.figure(figsize=(12,12))\n",
    "sns.distplot(donnees[(~donnees.total_bedrooms.isna())]['total_bedrooms']);\n",
    "#sns.distplot(donnees[(donnees.total_bedrooms.isna())]['total_rooms']);"
   ]
  },
  {
   "cell_type": "code",
   "execution_count": 22,
   "metadata": {
    "ExecuteTime": {
     "end_time": "2022-11-09T15:16:02.688711Z",
     "start_time": "2022-11-09T15:16:02.657435Z"
    }
   },
   "outputs": [
    {
     "data": {
      "text/html": [
       "<div>\n",
       "<style scoped>\n",
       "    .dataframe tbody tr th:only-of-type {\n",
       "        vertical-align: middle;\n",
       "    }\n",
       "\n",
       "    .dataframe tbody tr th {\n",
       "        vertical-align: top;\n",
       "    }\n",
       "\n",
       "    .dataframe thead th {\n",
       "        text-align: right;\n",
       "    }\n",
       "</style>\n",
       "<table border=\"1\" class=\"dataframe\">\n",
       "  <thead>\n",
       "    <tr style=\"text-align: right;\">\n",
       "      <th></th>\n",
       "      <th>total_rooms</th>\n",
       "      <th>total_bedrooms</th>\n",
       "      <th>households</th>\n",
       "      <th>population</th>\n",
       "    </tr>\n",
       "  </thead>\n",
       "  <tbody>\n",
       "    <tr>\n",
       "      <th>total_rooms</th>\n",
       "      <td>1.000000</td>\n",
       "      <td>0.930380</td>\n",
       "      <td>0.918484</td>\n",
       "      <td>0.857126</td>\n",
       "    </tr>\n",
       "    <tr>\n",
       "      <th>total_bedrooms</th>\n",
       "      <td>0.930380</td>\n",
       "      <td>1.000000</td>\n",
       "      <td>0.979728</td>\n",
       "      <td>0.877747</td>\n",
       "    </tr>\n",
       "    <tr>\n",
       "      <th>households</th>\n",
       "      <td>0.918484</td>\n",
       "      <td>0.979728</td>\n",
       "      <td>1.000000</td>\n",
       "      <td>0.907222</td>\n",
       "    </tr>\n",
       "    <tr>\n",
       "      <th>population</th>\n",
       "      <td>0.857126</td>\n",
       "      <td>0.877747</td>\n",
       "      <td>0.907222</td>\n",
       "      <td>1.000000</td>\n",
       "    </tr>\n",
       "  </tbody>\n",
       "</table>\n",
       "</div>"
      ],
      "text/plain": [
       "                total_rooms  total_bedrooms  households  population\n",
       "total_rooms        1.000000        0.930380    0.918484    0.857126\n",
       "total_bedrooms     0.930380        1.000000    0.979728    0.877747\n",
       "households         0.918484        0.979728    1.000000    0.907222\n",
       "population         0.857126        0.877747    0.907222    1.000000"
      ]
     },
     "execution_count": 22,
     "metadata": {},
     "output_type": "execute_result"
    }
   ],
   "source": [
    "donnees[['total_rooms','total_bedrooms', 'households','population']].corr()"
   ]
  },
  {
   "cell_type": "code",
   "execution_count": 23,
   "metadata": {
    "ExecuteTime": {
     "end_time": "2022-11-09T15:16:02.735873Z",
     "start_time": "2022-11-09T15:16:02.688711Z"
    }
   },
   "outputs": [
    {
     "data": {
      "text/html": [
       "<div>\n",
       "<style scoped>\n",
       "    .dataframe tbody tr th:only-of-type {\n",
       "        vertical-align: middle;\n",
       "    }\n",
       "\n",
       "    .dataframe tbody tr th {\n",
       "        vertical-align: top;\n",
       "    }\n",
       "\n",
       "    .dataframe thead th {\n",
       "        text-align: right;\n",
       "    }\n",
       "</style>\n",
       "<table border=\"1\" class=\"dataframe\">\n",
       "  <thead>\n",
       "    <tr style=\"text-align: right;\">\n",
       "      <th></th>\n",
       "      <th>longitude</th>\n",
       "      <th>latitude</th>\n",
       "      <th>housing_median_age</th>\n",
       "      <th>total_rooms</th>\n",
       "      <th>total_bedrooms</th>\n",
       "      <th>population</th>\n",
       "      <th>households</th>\n",
       "      <th>median_income</th>\n",
       "      <th>median_house_value</th>\n",
       "      <th>ocean_proximity</th>\n",
       "    </tr>\n",
       "  </thead>\n",
       "  <tbody>\n",
       "    <tr>\n",
       "      <th>longitude</th>\n",
       "      <td>1.000000</td>\n",
       "      <td>-0.924664</td>\n",
       "      <td>-0.108197</td>\n",
       "      <td>0.044568</td>\n",
       "      <td>0.069608</td>\n",
       "      <td>0.099773</td>\n",
       "      <td>0.055310</td>\n",
       "      <td>-0.015176</td>\n",
       "      <td>-0.045967</td>\n",
       "      <td>0.180381</td>\n",
       "    </tr>\n",
       "    <tr>\n",
       "      <th>latitude</th>\n",
       "      <td>-0.924664</td>\n",
       "      <td>1.000000</td>\n",
       "      <td>0.011173</td>\n",
       "      <td>-0.036100</td>\n",
       "      <td>-0.066983</td>\n",
       "      <td>-0.108785</td>\n",
       "      <td>-0.071035</td>\n",
       "      <td>-0.079809</td>\n",
       "      <td>-0.144160</td>\n",
       "      <td>-0.067586</td>\n",
       "    </tr>\n",
       "    <tr>\n",
       "      <th>housing_median_age</th>\n",
       "      <td>-0.108197</td>\n",
       "      <td>0.011173</td>\n",
       "      <td>1.000000</td>\n",
       "      <td>-0.361262</td>\n",
       "      <td>-0.320451</td>\n",
       "      <td>-0.296244</td>\n",
       "      <td>-0.302916</td>\n",
       "      <td>-0.119034</td>\n",
       "      <td>0.105623</td>\n",
       "      <td>-0.204882</td>\n",
       "    </tr>\n",
       "    <tr>\n",
       "      <th>total_rooms</th>\n",
       "      <td>0.044568</td>\n",
       "      <td>-0.036100</td>\n",
       "      <td>-0.361262</td>\n",
       "      <td>1.000000</td>\n",
       "      <td>0.930380</td>\n",
       "      <td>0.857126</td>\n",
       "      <td>0.918484</td>\n",
       "      <td>0.198050</td>\n",
       "      <td>0.134153</td>\n",
       "      <td>0.014818</td>\n",
       "    </tr>\n",
       "    <tr>\n",
       "      <th>total_bedrooms</th>\n",
       "      <td>0.069608</td>\n",
       "      <td>-0.066983</td>\n",
       "      <td>-0.320451</td>\n",
       "      <td>0.930380</td>\n",
       "      <td>1.000000</td>\n",
       "      <td>0.877747</td>\n",
       "      <td>0.979728</td>\n",
       "      <td>-0.007723</td>\n",
       "      <td>0.049686</td>\n",
       "      <td>0.004081</td>\n",
       "    </tr>\n",
       "    <tr>\n",
       "      <th>population</th>\n",
       "      <td>0.099773</td>\n",
       "      <td>-0.108785</td>\n",
       "      <td>-0.296244</td>\n",
       "      <td>0.857126</td>\n",
       "      <td>0.877747</td>\n",
       "      <td>1.000000</td>\n",
       "      <td>0.907222</td>\n",
       "      <td>0.004834</td>\n",
       "      <td>-0.024650</td>\n",
       "      <td>-0.008511</td>\n",
       "    </tr>\n",
       "    <tr>\n",
       "      <th>households</th>\n",
       "      <td>0.055310</td>\n",
       "      <td>-0.071035</td>\n",
       "      <td>-0.302916</td>\n",
       "      <td>0.918484</td>\n",
       "      <td>0.979728</td>\n",
       "      <td>0.907222</td>\n",
       "      <td>1.000000</td>\n",
       "      <td>0.013033</td>\n",
       "      <td>0.065843</td>\n",
       "      <td>-0.016911</td>\n",
       "    </tr>\n",
       "    <tr>\n",
       "      <th>median_income</th>\n",
       "      <td>-0.015176</td>\n",
       "      <td>-0.079809</td>\n",
       "      <td>-0.119034</td>\n",
       "      <td>0.198050</td>\n",
       "      <td>-0.007723</td>\n",
       "      <td>0.004834</td>\n",
       "      <td>0.013033</td>\n",
       "      <td>1.000000</td>\n",
       "      <td>0.688075</td>\n",
       "      <td>-0.129135</td>\n",
       "    </tr>\n",
       "    <tr>\n",
       "      <th>median_house_value</th>\n",
       "      <td>-0.045967</td>\n",
       "      <td>-0.144160</td>\n",
       "      <td>0.105623</td>\n",
       "      <td>0.134153</td>\n",
       "      <td>0.049686</td>\n",
       "      <td>-0.024650</td>\n",
       "      <td>0.065843</td>\n",
       "      <td>0.688075</td>\n",
       "      <td>1.000000</td>\n",
       "      <td>-0.210600</td>\n",
       "    </tr>\n",
       "    <tr>\n",
       "      <th>ocean_proximity</th>\n",
       "      <td>0.180381</td>\n",
       "      <td>-0.067586</td>\n",
       "      <td>-0.204882</td>\n",
       "      <td>0.014818</td>\n",
       "      <td>0.004081</td>\n",
       "      <td>-0.008511</td>\n",
       "      <td>-0.016911</td>\n",
       "      <td>-0.129135</td>\n",
       "      <td>-0.210600</td>\n",
       "      <td>1.000000</td>\n",
       "    </tr>\n",
       "  </tbody>\n",
       "</table>\n",
       "</div>"
      ],
      "text/plain": [
       "                    longitude  latitude  housing_median_age  total_rooms  \\\n",
       "longitude            1.000000 -0.924664           -0.108197     0.044568   \n",
       "latitude            -0.924664  1.000000            0.011173    -0.036100   \n",
       "housing_median_age  -0.108197  0.011173            1.000000    -0.361262   \n",
       "total_rooms          0.044568 -0.036100           -0.361262     1.000000   \n",
       "total_bedrooms       0.069608 -0.066983           -0.320451     0.930380   \n",
       "population           0.099773 -0.108785           -0.296244     0.857126   \n",
       "households           0.055310 -0.071035           -0.302916     0.918484   \n",
       "median_income       -0.015176 -0.079809           -0.119034     0.198050   \n",
       "median_house_value  -0.045967 -0.144160            0.105623     0.134153   \n",
       "ocean_proximity      0.180381 -0.067586           -0.204882     0.014818   \n",
       "\n",
       "                    total_bedrooms  population  households  median_income  \\\n",
       "longitude                 0.069608    0.099773    0.055310      -0.015176   \n",
       "latitude                 -0.066983   -0.108785   -0.071035      -0.079809   \n",
       "housing_median_age       -0.320451   -0.296244   -0.302916      -0.119034   \n",
       "total_rooms               0.930380    0.857126    0.918484       0.198050   \n",
       "total_bedrooms            1.000000    0.877747    0.979728      -0.007723   \n",
       "population                0.877747    1.000000    0.907222       0.004834   \n",
       "households                0.979728    0.907222    1.000000       0.013033   \n",
       "median_income            -0.007723    0.004834    0.013033       1.000000   \n",
       "median_house_value        0.049686   -0.024650    0.065843       0.688075   \n",
       "ocean_proximity           0.004081   -0.008511   -0.016911      -0.129135   \n",
       "\n",
       "                    median_house_value  ocean_proximity  \n",
       "longitude                    -0.045967         0.180381  \n",
       "latitude                     -0.144160        -0.067586  \n",
       "housing_median_age            0.105623        -0.204882  \n",
       "total_rooms                   0.134153         0.014818  \n",
       "total_bedrooms                0.049686         0.004081  \n",
       "population                   -0.024650        -0.008511  \n",
       "households                    0.065843        -0.016911  \n",
       "median_income                 0.688075        -0.129135  \n",
       "median_house_value            1.000000        -0.210600  \n",
       "ocean_proximity              -0.210600         1.000000  "
      ]
     },
     "execution_count": 23,
     "metadata": {},
     "output_type": "execute_result"
    }
   ],
   "source": [
    "donnees.corr()"
   ]
  },
  {
   "cell_type": "code",
   "execution_count": 27,
   "metadata": {
    "ExecuteTime": {
     "end_time": "2022-11-09T15:37:40.879746Z",
     "start_time": "2022-11-09T15:37:40.864124Z"
    }
   },
   "outputs": [],
   "source": [
    "X = donnees[~donnees.total_bedrooms.isna()][['total_rooms','households','population']]\n",
    "y = donnees[~donnees.total_bedrooms.isna()]['total_rooms']"
   ]
  },
  {
   "cell_type": "code",
   "execution_count": 28,
   "metadata": {
    "ExecuteTime": {
     "end_time": "2022-11-09T15:37:46.858822Z",
     "start_time": "2022-11-09T15:37:46.827580Z"
    }
   },
   "outputs": [
    {
     "data": {
      "text/html": [
       "<div>\n",
       "<style scoped>\n",
       "    .dataframe tbody tr th:only-of-type {\n",
       "        vertical-align: middle;\n",
       "    }\n",
       "\n",
       "    .dataframe tbody tr th {\n",
       "        vertical-align: top;\n",
       "    }\n",
       "\n",
       "    .dataframe thead th {\n",
       "        text-align: right;\n",
       "    }\n",
       "</style>\n",
       "<table border=\"1\" class=\"dataframe\">\n",
       "  <thead>\n",
       "    <tr style=\"text-align: right;\">\n",
       "      <th></th>\n",
       "      <th>total_rooms</th>\n",
       "      <th>households</th>\n",
       "      <th>population</th>\n",
       "    </tr>\n",
       "  </thead>\n",
       "  <tbody>\n",
       "    <tr>\n",
       "      <th>0</th>\n",
       "      <td>880.0</td>\n",
       "      <td>126.0</td>\n",
       "      <td>322.0</td>\n",
       "    </tr>\n",
       "    <tr>\n",
       "      <th>1</th>\n",
       "      <td>7099.0</td>\n",
       "      <td>1138.0</td>\n",
       "      <td>2401.0</td>\n",
       "    </tr>\n",
       "    <tr>\n",
       "      <th>2</th>\n",
       "      <td>1467.0</td>\n",
       "      <td>177.0</td>\n",
       "      <td>496.0</td>\n",
       "    </tr>\n",
       "    <tr>\n",
       "      <th>3</th>\n",
       "      <td>1274.0</td>\n",
       "      <td>219.0</td>\n",
       "      <td>558.0</td>\n",
       "    </tr>\n",
       "    <tr>\n",
       "      <th>4</th>\n",
       "      <td>1627.0</td>\n",
       "      <td>259.0</td>\n",
       "      <td>565.0</td>\n",
       "    </tr>\n",
       "  </tbody>\n",
       "</table>\n",
       "</div>"
      ],
      "text/plain": [
       "   total_rooms  households  population\n",
       "0        880.0       126.0       322.0\n",
       "1       7099.0      1138.0      2401.0\n",
       "2       1467.0       177.0       496.0\n",
       "3       1274.0       219.0       558.0\n",
       "4       1627.0       259.0       565.0"
      ]
     },
     "execution_count": 28,
     "metadata": {},
     "output_type": "execute_result"
    }
   ],
   "source": [
    "X.head()"
   ]
  },
  {
   "cell_type": "code",
   "execution_count": 29,
   "metadata": {
    "ExecuteTime": {
     "end_time": "2022-11-09T15:37:53.554739Z",
     "start_time": "2022-11-09T15:37:53.523484Z"
    }
   },
   "outputs": [
    {
     "data": {
      "text/plain": [
       "0         880.0\n",
       "1        7099.0\n",
       "2        1467.0\n",
       "3        1274.0\n",
       "4        1627.0\n",
       "          ...  \n",
       "20635    1665.0\n",
       "20636     697.0\n",
       "20637    2254.0\n",
       "20638    1860.0\n",
       "20639    2785.0\n",
       "Name: total_rooms, Length: 20433, dtype: float64"
      ]
     },
     "execution_count": 29,
     "metadata": {},
     "output_type": "execute_result"
    }
   ],
   "source": [
    "y"
   ]
  },
  {
   "cell_type": "code",
   "execution_count": null,
   "metadata": {},
   "outputs": [],
   "source": []
  },
  {
   "cell_type": "code",
   "execution_count": null,
   "metadata": {},
   "outputs": [],
   "source": []
  }
 ],
 "metadata": {
  "kernelspec": {
   "display_name": "Python 3 (ipykernel)",
   "language": "python",
   "name": "python3"
  },
  "language_info": {
   "codemirror_mode": {
    "name": "ipython",
    "version": 3
   },
   "file_extension": ".py",
   "mimetype": "text/x-python",
   "name": "python",
   "nbconvert_exporter": "python",
   "pygments_lexer": "ipython3",
   "version": "3.8.13"
  },
  "toc": {
   "base_numbering": 1,
   "nav_menu": {},
   "number_sections": true,
   "sideBar": true,
   "skip_h1_title": false,
   "title_cell": "Table of Contents",
   "title_sidebar": "Contents",
   "toc_cell": true,
   "toc_position": {},
   "toc_section_display": true,
   "toc_window_display": false
  }
 },
 "nbformat": 4,
 "nbformat_minor": 2
}
